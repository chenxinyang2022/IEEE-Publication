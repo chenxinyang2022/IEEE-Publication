{
 "cells": [
  {
   "cell_type": "code",
   "execution_count": 1,
   "metadata": {},
   "outputs": [
    {
     "name": "stdout",
     "output_type": "stream",
     "text": [
      "!\"#$%&'()*+,-./:;<=>?@[\\]^_`{|}~\n"
     ]
    }
   ],
   "source": [
    "import numpy as np\n",
    "import pandas as pd\n",
    "import matplotlib.pyplot as plt\n",
    "import seaborn as sns\n",
    "import nltk\n",
    "from nltk.corpus import stopwords\n",
    "from string import punctuation\n",
    "print(punctuation)\n",
    "from nltk.tag import pos_tag\n",
    "from nltk.stem.wordnet import WordNetLemmatizer"
   ]
  },
  {
   "cell_type": "markdown",
   "metadata": {},
   "source": [
    "clean the original data"
   ]
  },
  {
   "cell_type": "code",
   "execution_count": 14,
   "metadata": {},
   "outputs": [],
   "source": [
    "df = pd.read_csv(\"SET_processed_latest_version.csv\")\n",
    "for i in range(df.shape[1]):\n",
    "    df.iloc[:,i]= df.iloc[:,i].replace([555, 777,888,999,'555','777','888','999' ], np.nan)\n",
    "text=df.loc[:,['GRYD_ETO_ID','S6b_Other_Activities','S11a_Comments','A1_Description','A2_Description','A3_Description','O1_other_group_name','Group_name_part1','PUSH_1','PULL_1']]\n",
    "text[\"text_all\"] = text.apply(lambda x: ','.join(x.dropna()), axis=1)"
   ]
  },
  {
   "cell_type": "code",
   "execution_count": 20,
   "metadata": {},
   "outputs": [],
   "source": [
    "df= pd.read_csv('text_emotion.csv')"
   ]
  },
  {
   "cell_type": "code",
   "execution_count": 21,
   "metadata": {},
   "outputs": [],
   "source": [
    "df=df.loc[:,['sentiment','content']]"
   ]
  },
  {
   "cell_type": "code",
   "execution_count": 22,
   "metadata": {},
   "outputs": [
    {
     "data": {
      "text/plain": [
       "neutral       8638\n",
       "worry         8459\n",
       "happiness     5209\n",
       "sadness       5165\n",
       "love          3842\n",
       "surprise      2187\n",
       "fun           1776\n",
       "relief        1526\n",
       "hate          1323\n",
       "empty          827\n",
       "enthusiasm     759\n",
       "boredom        179\n",
       "anger          110\n",
       "Name: sentiment, dtype: int64"
      ]
     },
     "execution_count": 22,
     "metadata": {},
     "output_type": "execute_result"
    }
   ],
   "source": [
    "df.sentiment.value_counts()"
   ]
  },
  {
   "cell_type": "markdown",
   "metadata": {},
   "source": [
    "normalize function"
   ]
  },
  {
   "cell_type": "code",
   "execution_count": 16,
   "metadata": {},
   "outputs": [],
   "source": [
    "import re, string\n",
    "\n",
    "def remove_noise(tweet_tokens, stop_words = ()):\n",
    "\n",
    "    cleaned_tokens = []\n",
    "\n",
    "    for token, tag in pos_tag(tweet_tokens):\n",
    "        token = re.sub('http[s]?://(?:[a-zA-Z]|[0-9]|[$-_@.&+#]|[!*\\(\\),]|'\\\n",
    "                       '(?:%[0-9a-fA-F][0-9a-fA-F]))+','', token)\n",
    "        token = re.sub(\"(@[A-Za-z0-9_]+)\",\"\", token)\n",
    "\n",
    "        if tag.startswith(\"NN\"):\n",
    "            pos = 'n'\n",
    "        elif tag.startswith('VB'):\n",
    "            pos = 'v'\n",
    "        else:\n",
    "            pos = 'a'\n",
    "\n",
    "        lemmatizer = WordNetLemmatizer()\n",
    "        token = lemmatizer.lemmatize(token, pos)\n",
    "\n",
    "        if len(token) > 0 and token not in string.punctuation and token.lower() not in stop_words:\n",
    "            cleaned_tokens.append(token.lower())\n",
    "    return cleaned_tokens"
   ]
  },
  {
   "cell_type": "code",
   "execution_count": 17,
   "metadata": {},
   "outputs": [],
   "source": [
    "from nltk.corpus import stopwords\n",
    "sw = stopwords.words('english')\n",
    "\n",
    "def  normalize (df):\n",
    "    contents=df.dropna().values\n",
    "    \n",
    "\n",
    "    \n",
    "    \n",
    "    for i in range (contents.shape[0]):\n",
    "        contents[i]=contents[i].replace(\",\", \" \")\n",
    "        \n",
    "    all_contents = [''.join([c for c in i if c not in punctuation]) for i in contents]\n",
    "    all_contents = [i.lower() for i in all_contents]\n",
    "    all_contents= [i.split() for i in all_contents]\n",
    "    \n",
    "    for i in range (len(all_contents)):\n",
    "        all_contents[i]=remove_noise(all_contents[i],sw)\n",
    "    \n",
    "    \n",
    "    clean_tokens = [[] for _ in range(len(all_contents))]\n",
    "    other_trash = ['im','a','u','2','wont','thats','dont', 'cant', 'didnt','isnt','ive','doesnt']\n",
    "    trash_tokens = sw + other_trash\n",
    "    for i in range(len(all_contents)):\n",
    "        for token in all_contents[i]:\n",
    "            if token not in trash_tokens:\n",
    "                clean_tokens[i].append(token)\n",
    "       \n",
    "    \n",
    "\n",
    "    \n",
    "    return clean_tokens"
   ]
  },
  {
   "cell_type": "code",
   "execution_count": 18,
   "metadata": {},
   "outputs": [],
   "source": [
    "original = normalize(text['S11a_Comments'])"
   ]
  },
  {
   "cell_type": "markdown",
   "metadata": {},
   "source": [
    "combine data + sample data exploration"
   ]
  },
  {
   "cell_type": "code",
   "execution_count": 35,
   "metadata": {},
   "outputs": [],
   "source": [
    "df1=pd.read_csv('data_train.csv')"
   ]
  },
  {
   "cell_type": "code",
   "execution_count": 36,
   "metadata": {},
   "outputs": [],
   "source": [
    "df2=pd.read_csv('data_test.csv')"
   ]
  },
  {
   "cell_type": "code",
   "execution_count": 25,
   "metadata": {
    "scrolled": true
   },
   "outputs": [],
   "source": [
    "df=df.rename(columns={'content':'selected_text'})"
   ]
  },
  {
   "cell_type": "code",
   "execution_count": 38,
   "metadata": {},
   "outputs": [],
   "source": [
    "dfnew=pd.concat([df1, df2], ignore_index=True)"
   ]
  },
  {
   "cell_type": "code",
   "execution_count": 39,
   "metadata": {},
   "outputs": [],
   "source": [
    "dfnew=dfnew.rename(columns={'Emotion':'sentiment','Text':'selected_text'})"
   ]
  },
  {
   "cell_type": "code",
   "execution_count": 40,
   "metadata": {},
   "outputs": [],
   "source": [
    "df=pd.concat([df, dfnew], ignore_index=True)"
   ]
  },
  {
   "cell_type": "code",
   "execution_count": 26,
   "metadata": {},
   "outputs": [
    {
     "data": {
      "text/plain": [
       "(40000, 2)"
      ]
     },
     "execution_count": 26,
     "metadata": {},
     "output_type": "execute_result"
    }
   ],
   "source": [
    "df.shape"
   ]
  },
  {
   "cell_type": "markdown",
   "metadata": {},
   "source": [
    "seperate to train_test"
   ]
  },
  {
   "cell_type": "code",
   "execution_count": 72,
   "metadata": {},
   "outputs": [],
   "source": [
    "df=pd.concat([df.loc[df['sentiment']=='fear'], df.loc[df['sentiment']=='sadness'],df.loc[df['sentiment']=='neutral'],df.loc[df['sentiment']=='worry'],df.loc[df['sentiment']=='boredom'],df.loc[df['sentiment']=='anger']], ignore_index=True)\n",
    "df=df.sample(frac=1)\n",
    "train=df.iloc[:25000,]\n",
    "train.to_csv('emotion_train.csv',index=False)\n",
    "test=df.iloc[25000:,]\n",
    "test.to_csv('emotion_test.csv',index=False)"
   ]
  },
  {
   "cell_type": "code",
   "execution_count": 7,
   "metadata": {},
   "outputs": [],
   "source": [
    "df.to_csv('emotion.csv', index = False)"
   ]
  },
  {
   "cell_type": "markdown",
   "metadata": {},
   "source": [
    ".....\n"
   ]
  },
  {
   "cell_type": "code",
   "execution_count": 28,
   "metadata": {},
   "outputs": [],
   "source": [
    "#fear = normalize(df.loc[df['sentiment']=='fear']['selected_text'])\n",
    "sadness = normalize(df.loc[df['sentiment']=='sadness']['selected_text'])\n",
    "neutral = normalize(df.loc[df['sentiment']=='neutral']['selected_text'])\n",
    "worry = normalize(df.loc[df['sentiment']=='worry']['selected_text'])\n",
    "\n",
    "boredom = normalize(df.loc[df['sentiment']=='boredom']['selected_text'])\n",
    "anger = normalize(df.loc[df['sentiment']=='anger']['selected_text'])"
   ]
  },
  {
   "cell_type": "markdown",
   "metadata": {},
   "source": [
    "most common tokens for sadness categories"
   ]
  },
  {
   "cell_type": "code",
   "execution_count": 33,
   "metadata": {},
   "outputs": [],
   "source": [
    "def get_all_words(cleaned_tokens_list):\n",
    "    for tokens in cleaned_tokens_list:\n",
    "        for token in tokens:\n",
    "            yield token\n",
    "sadness_words = get_all_words(worry)"
   ]
  },
  {
   "cell_type": "code",
   "execution_count": 34,
   "metadata": {
    "scrolled": true
   },
   "outputs": [
    {
     "name": "stdout",
     "output_type": "stream",
     "text": [
      "[('get', 1113), ('go', 997), ('good', 533), ('day', 530), ('work', 503), ('like', 467), ('feel', 445), ('think', 429), ('know', 384), ('miss', 365), ('today', 362), ('want', 334), ('time', 332), ('need', 330), ('make', 323), ('one', 311), ('really', 310), ('sorry', 309), ('back', 306), ('bad', 303), ('see', 281), ('still', 278), ('hope', 260), ('oh', 250), ('well', 249), ('sad', 243), ('look', 243), ('home', 242), ('night', 232), ('lol', 232), ('much', 227), ('come', 220), ('try', 215), ('wish', 212), ('take', 211), ('last', 208), ('sleep', 200), ('find', 197), ('amp', 194), ('thing', 189), ('ill', 183), ('say', 177), ('tomorrow', 174), ('sick', 173), ('love', 172), ('would', 169), ('new', 166), ('hurt', 161), ('twitter', 157), ('gonna', 156), ('wait', 152), ('leave', 150), ('though', 149), ('week', 147), ('tonight', 144), ('right', 142), ('hour', 135), ('watch', 135), ('please', 134), ('could', 133), ('way', 132), ('morning', 126), ('start', 125), ('happy', 124), ('next', 124), ('soon', 124), ('long', 123), ('call', 122), ('yeah', 122), ('people', 120), ('even', 119), ('lose', 119), ('friend', 118), ('phone', 117), ('late', 115), ('little', 115), ('great', 115), ('poor', 114), ('never', 113), ('school', 108), ('suck', 108), ('help', 108), ('weekend', 106), ('year', 104), ('hear', 104), ('happen', 102), ('keep', 101), ('break', 101), ('something', 99), ('youre', 96), ('yet', 96), ('fun', 96), ('head', 95), ('let', 95), ('show', 93), ('hard', 93), ('ok', 92), ('tell', 91), ('hate', 90), ('haha', 90)]\n"
     ]
    }
   ],
   "source": [
    "from nltk import FreqDist\n",
    "\n",
    "freq_dist_pos = FreqDist(sadness_words)\n",
    "print(freq_dist_pos.most_common(100))"
   ]
  },
  {
   "cell_type": "markdown",
   "metadata": {},
   "source": [
    "change the data type to fit the naive bayes model"
   ]
  },
  {
   "cell_type": "code",
   "execution_count": 35,
   "metadata": {},
   "outputs": [],
   "source": [
    "def get_tweets_for_model(cleaned_tokens_list):\n",
    "    \n",
    "    for tweet_tokens in cleaned_tokens_list:\n",
    "        yield dict([token, True] for token in tweet_tokens)\n",
    "\n"
   ]
  },
  {
   "cell_type": "code",
   "execution_count": 36,
   "metadata": {},
   "outputs": [],
   "source": [
    "#fear_new = get_tweets_for_model(fear)\n",
    "sadness_new = get_tweets_for_model(sadness)\n",
    "neutral_new = get_tweets_for_model(neutral)\n",
    "worry_new = get_tweets_for_model(worry)\n",
    "\n",
    "boredom_new = get_tweets_for_model(boredom)\n",
    "anger_new = get_tweets_for_model(anger)"
   ]
  },
  {
   "cell_type": "code",
   "execution_count": 38,
   "metadata": {},
   "outputs": [],
   "source": [
    "import random\n",
    "#fear_data = [(i, \"fear\")for i in fear_new]\n",
    "sadness_data = [(i, \"sadness\")for i in sadness_new]\n",
    "neutral_data = [(i, \"neutral\")for i in neutral_new]\n",
    "worry_data = [(i, \"worry\")for i in worry_new]\n",
    "\n",
    "boredom_data = [(i, \"boredom\")for i in boredom_new]\n",
    "anger_data = [(i, \"anger\")for i in anger_new]"
   ]
  },
  {
   "cell_type": "code",
   "execution_count": 39,
   "metadata": {
    "scrolled": true
   },
   "outputs": [
    {
     "data": {
      "text/plain": [
       "({'fuckinm': True, 'transtelecom': True}, 'anger')"
      ]
     },
     "execution_count": 39,
     "metadata": {},
     "output_type": "execute_result"
    }
   ],
   "source": [
    "anger_data[0]"
   ]
  },
  {
   "cell_type": "markdown",
   "metadata": {},
   "source": [
    "train test split, fit naive bayes model"
   ]
  },
  {
   "cell_type": "code",
   "execution_count": 40,
   "metadata": {},
   "outputs": [
    {
     "data": {
      "text/plain": [
       "22551"
      ]
     },
     "execution_count": 40,
     "metadata": {},
     "output_type": "execute_result"
    }
   ],
   "source": [
    "dataset =  sadness_data +neutral_data+worry_data+boredom_data+anger_data\n",
    "\n",
    "len(dataset)\n"
   ]
  },
  {
   "cell_type": "code",
   "execution_count": 41,
   "metadata": {},
   "outputs": [],
   "source": [
    "random.shuffle(dataset)\n",
    "\n",
    "train_data = dataset[:19000]\n",
    "test_data = dataset[19000:]"
   ]
  },
  {
   "cell_type": "code",
   "execution_count": 42,
   "metadata": {
    "scrolled": true
   },
   "outputs": [
    {
     "name": "stdout",
     "output_type": "stream",
     "text": [
      "Accuracy is: 0.2219093213179386\n",
      "Most Informative Features\n",
      "              accomplish = True            anger : worry  =    122.5 : 1.0\n",
      "           taylorswift13 = True            anger : worry  =    122.5 : 1.0\n",
      "                 fifteen = True           boredo : neutra =     80.1 : 1.0\n",
      "                     110 = True            anger : neutra =     74.8 : 1.0\n",
      "              allnighter = True            anger : neutra =     74.8 : 1.0\n",
      "                    bein = True            anger : neutra =     74.8 : 1.0\n",
      "                   blond = True            anger : neutra =     74.8 : 1.0\n",
      "                   brown = True            anger : neutra =     74.8 : 1.0\n",
      "                bullshit = True            anger : neutra =     74.8 : 1.0\n",
      "                   chest = True            anger : neutra =     74.8 : 1.0\n",
      "None\n"
     ]
    }
   ],
   "source": [
    "from nltk import classify\n",
    "from nltk import NaiveBayesClassifier\n",
    "classifier = NaiveBayesClassifier.train(train_data)\n",
    "\n",
    "print(\"Accuracy is:\", classify.accuracy(classifier, test_data))\n",
    "\n",
    "print(classifier.show_most_informative_features(10))"
   ]
  },
  {
   "cell_type": "code",
   "execution_count": 43,
   "metadata": {},
   "outputs": [
    {
     "name": "stdout",
     "output_type": "stream",
     "text": [
      "worry\n"
     ]
    }
   ],
   "source": [
    "print(classifier.classify(dict([token, True] for token in original[10])))"
   ]
  },
  {
   "cell_type": "markdown",
   "metadata": {},
   "source": [
    "add sentiment column to original text df"
   ]
  },
  {
   "cell_type": "code",
   "execution_count": 44,
   "metadata": {},
   "outputs": [],
   "source": [
    "sentiment=list()\n",
    "for i in range (len(original)):\n",
    "    sentiment.append(classifier.classify(dict([token, True] for token in original[i])))"
   ]
  },
  {
   "cell_type": "code",
   "execution_count": 45,
   "metadata": {},
   "outputs": [
    {
     "data": {
      "text/html": [
       "<div>\n",
       "<style scoped>\n",
       "    .dataframe tbody tr th:only-of-type {\n",
       "        vertical-align: middle;\n",
       "    }\n",
       "\n",
       "    .dataframe tbody tr th {\n",
       "        vertical-align: top;\n",
       "    }\n",
       "\n",
       "    .dataframe thead th {\n",
       "        text-align: right;\n",
       "    }\n",
       "</style>\n",
       "<table border=\"1\" class=\"dataframe\">\n",
       "  <thead>\n",
       "    <tr style=\"text-align: right;\">\n",
       "      <th></th>\n",
       "      <th>GRYD_ETO_ID</th>\n",
       "      <th>S6b_Other_Activities</th>\n",
       "      <th>S11a_Comments</th>\n",
       "      <th>A1_Description</th>\n",
       "      <th>A2_Description</th>\n",
       "      <th>A3_Description</th>\n",
       "      <th>O1_other_group_name</th>\n",
       "      <th>Group_name_part1</th>\n",
       "      <th>PUSH_1</th>\n",
       "      <th>PULL_1</th>\n",
       "      <th>text_all</th>\n",
       "      <th>sentiment</th>\n",
       "    </tr>\n",
       "  </thead>\n",
       "  <tbody>\n",
       "    <tr>\n",
       "      <th>0</th>\n",
       "      <td>BVCB-0-144-1</td>\n",
       "      <td>Working out, CBT, boxing</td>\n",
       "      <td>School. Poor grades, car accident, not enough ...</td>\n",
       "      <td>School</td>\n",
       "      <td>NaN</td>\n",
       "      <td>School</td>\n",
       "      <td>Other group</td>\n",
       "      <td>Group</td>\n",
       "      <td>Somebody got out of jail that brought a lot of...</td>\n",
       "      <td>School. work. moving</td>\n",
       "      <td>BVCB-0-144-1,Working out, CBT, boxing,School. ...</td>\n",
       "      <td>NaN</td>\n",
       "    </tr>\n",
       "    <tr>\n",
       "      <th>1</th>\n",
       "      <td>BVCB-0-174-1</td>\n",
       "      <td>Basketball</td>\n",
       "      <td>Mother died</td>\n",
       "      <td>Basketball</td>\n",
       "      <td>NaN</td>\n",
       "      <td>NaN</td>\n",
       "      <td>No name</td>\n",
       "      <td>Money Gang</td>\n",
       "      <td>NaN</td>\n",
       "      <td>NaN</td>\n",
       "      <td>BVCB-0-174-1,Basketball,Mother died,Basketball...</td>\n",
       "      <td>NaN</td>\n",
       "    </tr>\n",
       "    <tr>\n",
       "      <th>2</th>\n",
       "      <td>Southeast 3-10-24-1</td>\n",
       "      <td>Extra activities with children</td>\n",
       "      <td>Favor cousin was murder and never found his ki...</td>\n",
       "      <td>Church, job and school</td>\n",
       "      <td>Church choir and praise team</td>\n",
       "      <td>NaN</td>\n",
       "      <td>Church group</td>\n",
       "      <td>No group</td>\n",
       "      <td>NaN</td>\n",
       "      <td>NaN</td>\n",
       "      <td>Southeast 3-10-24-1,Extra activities with chil...</td>\n",
       "      <td>NaN</td>\n",
       "    </tr>\n",
       "    <tr>\n",
       "      <th>3</th>\n",
       "      <td>Southeast 3-10-18-1</td>\n",
       "      <td>Actor/dance</td>\n",
       "      <td>Best friend brother was murder [sic] by 16 and...</td>\n",
       "      <td>Church, school and job</td>\n",
       "      <td>Church choir and praise team</td>\n",
       "      <td>NaN</td>\n",
       "      <td>No name</td>\n",
       "      <td>No name</td>\n",
       "      <td>NaN</td>\n",
       "      <td>NaN</td>\n",
       "      <td>Southeast 3-10-18-1,Actor/dance,Best friend br...</td>\n",
       "      <td>NaN</td>\n",
       "    </tr>\n",
       "    <tr>\n",
       "      <th>4</th>\n",
       "      <td>Southeast 3-10-17-1</td>\n",
       "      <td>Singing</td>\n",
       "      <td>Best fried brother was murder [sic] by 18yr boy</td>\n",
       "      <td>Church, job, and school</td>\n",
       "      <td>Church choir and praise team</td>\n",
       "      <td>NaN</td>\n",
       "      <td>No name</td>\n",
       "      <td>No name</td>\n",
       "      <td>NaN</td>\n",
       "      <td>NaN</td>\n",
       "      <td>Southeast 3-10-17-1,Singing,Best fried brother...</td>\n",
       "      <td>NaN</td>\n",
       "    </tr>\n",
       "  </tbody>\n",
       "</table>\n",
       "</div>"
      ],
      "text/plain": [
       "           GRYD_ETO_ID            S6b_Other_Activities  \\\n",
       "0         BVCB-0-144-1        Working out, CBT, boxing   \n",
       "1         BVCB-0-174-1                      Basketball   \n",
       "2  Southeast 3-10-24-1  Extra activities with children   \n",
       "3  Southeast 3-10-18-1                     Actor/dance   \n",
       "4  Southeast 3-10-17-1                         Singing   \n",
       "\n",
       "                                       S11a_Comments           A1_Description  \\\n",
       "0  School. Poor grades, car accident, not enough ...                   School   \n",
       "1                                        Mother died               Basketball   \n",
       "2  Favor cousin was murder and never found his ki...   Church, job and school   \n",
       "3  Best friend brother was murder [sic] by 16 and...   Church, school and job   \n",
       "4    Best fried brother was murder [sic] by 18yr boy  Church, job, and school   \n",
       "\n",
       "                 A2_Description A3_Description O1_other_group_name  \\\n",
       "0                           NaN         School         Other group   \n",
       "1                           NaN            NaN             No name   \n",
       "2  Church choir and praise team            NaN        Church group   \n",
       "3  Church choir and praise team            NaN             No name   \n",
       "4  Church choir and praise team            NaN             No name   \n",
       "\n",
       "  Group_name_part1                                             PUSH_1  \\\n",
       "0            Group  Somebody got out of jail that brought a lot of...   \n",
       "1       Money Gang                                                NaN   \n",
       "2         No group                                                NaN   \n",
       "3          No name                                                NaN   \n",
       "4          No name                                                NaN   \n",
       "\n",
       "                 PULL_1                                           text_all  \\\n",
       "0  School. work. moving  BVCB-0-144-1,Working out, CBT, boxing,School. ...   \n",
       "1                   NaN  BVCB-0-174-1,Basketball,Mother died,Basketball...   \n",
       "2                   NaN  Southeast 3-10-24-1,Extra activities with chil...   \n",
       "3                   NaN  Southeast 3-10-18-1,Actor/dance,Best friend br...   \n",
       "4                   NaN  Southeast 3-10-17-1,Singing,Best fried brother...   \n",
       "\n",
       "   sentiment  \n",
       "0        NaN  \n",
       "1        NaN  \n",
       "2        NaN  \n",
       "3        NaN  \n",
       "4        NaN  "
      ]
     },
     "execution_count": 45,
     "metadata": {},
     "output_type": "execute_result"
    }
   ],
   "source": [
    "text['sentiment']=np.nan\n",
    "text.head()"
   ]
  },
  {
   "cell_type": "code",
   "execution_count": 46,
   "metadata": {},
   "outputs": [],
   "source": [
    "temp=0\n",
    "for i in range (text.shape[0]):\n",
    "    if (type(text.loc[i,'S11a_Comments'])==str):\n",
    "        text.loc[i,'sentiment']=sentiment[temp]\n",
    "        temp=temp+1\n"
   ]
  },
  {
   "cell_type": "code",
   "execution_count": 47,
   "metadata": {
    "scrolled": true
   },
   "outputs": [
    {
     "data": {
      "text/html": [
       "<div>\n",
       "<style scoped>\n",
       "    .dataframe tbody tr th:only-of-type {\n",
       "        vertical-align: middle;\n",
       "    }\n",
       "\n",
       "    .dataframe tbody tr th {\n",
       "        vertical-align: top;\n",
       "    }\n",
       "\n",
       "    .dataframe thead th {\n",
       "        text-align: right;\n",
       "    }\n",
       "</style>\n",
       "<table border=\"1\" class=\"dataframe\">\n",
       "  <thead>\n",
       "    <tr style=\"text-align: right;\">\n",
       "      <th></th>\n",
       "      <th>S11a_Comments</th>\n",
       "      <th>sentiment</th>\n",
       "    </tr>\n",
       "  </thead>\n",
       "  <tbody>\n",
       "    <tr>\n",
       "      <th>0</th>\n",
       "      <td>School. Poor grades, car accident, not enough ...</td>\n",
       "      <td>worry</td>\n",
       "    </tr>\n",
       "    <tr>\n",
       "      <th>1</th>\n",
       "      <td>Mother died</td>\n",
       "      <td>worry</td>\n",
       "    </tr>\n",
       "    <tr>\n",
       "      <th>2</th>\n",
       "      <td>Favor cousin was murder and never found his ki...</td>\n",
       "      <td>anger</td>\n",
       "    </tr>\n",
       "    <tr>\n",
       "      <th>3</th>\n",
       "      <td>Best friend brother was murder [sic] by 16 and...</td>\n",
       "      <td>anger</td>\n",
       "    </tr>\n",
       "    <tr>\n",
       "      <th>4</th>\n",
       "      <td>Best fried brother was murder [sic] by 18yr boy</td>\n",
       "      <td>boredom</td>\n",
       "    </tr>\n",
       "    <tr>\n",
       "      <th>5</th>\n",
       "      <td>Best friend brother was murder [sic] by 22yr m...</td>\n",
       "      <td>boredom</td>\n",
       "    </tr>\n",
       "    <tr>\n",
       "      <th>6</th>\n",
       "      <td>NaN</td>\n",
       "      <td>NaN</td>\n",
       "    </tr>\n",
       "    <tr>\n",
       "      <th>7</th>\n",
       "      <td>NaN</td>\n",
       "      <td>NaN</td>\n",
       "    </tr>\n",
       "    <tr>\n",
       "      <th>8</th>\n",
       "      <td>My mom going to jail</td>\n",
       "      <td>worry</td>\n",
       "    </tr>\n",
       "    <tr>\n",
       "      <th>9</th>\n",
       "      <td>Broke up with my long time boyfriend.</td>\n",
       "      <td>worry</td>\n",
       "    </tr>\n",
       "  </tbody>\n",
       "</table>\n",
       "</div>"
      ],
      "text/plain": [
       "                                       S11a_Comments sentiment\n",
       "0  School. Poor grades, car accident, not enough ...     worry\n",
       "1                                        Mother died     worry\n",
       "2  Favor cousin was murder and never found his ki...     anger\n",
       "3  Best friend brother was murder [sic] by 16 and...     anger\n",
       "4    Best fried brother was murder [sic] by 18yr boy   boredom\n",
       "5  Best friend brother was murder [sic] by 22yr m...   boredom\n",
       "6                                                NaN       NaN\n",
       "7                                                NaN       NaN\n",
       "8                               My mom going to jail     worry\n",
       "9              Broke up with my long time boyfriend.     worry"
      ]
     },
     "execution_count": 47,
     "metadata": {},
     "output_type": "execute_result"
    }
   ],
   "source": [
    "text.loc[:,['S11a_Comments','sentiment']].head(10)"
   ]
  },
  {
   "cell_type": "code",
   "execution_count": 48,
   "metadata": {
    "scrolled": false
   },
   "outputs": [
    {
     "data": {
      "text/plain": [
       "<matplotlib.axes._subplots.AxesSubplot at 0x15e5742f988>"
      ]
     },
     "execution_count": 48,
     "metadata": {},
     "output_type": "execute_result"
    },
    {
     "data": {
      "image/png": "[encoded data removed]",
      "text/plain": [
       "<Figure size 432x288 with 1 Axes>"
      ]
     },
     "metadata": {
      "needs_background": "light"
     },
     "output_type": "display_data"
    }
   ],
   "source": [
    "sns.countplot(text['sentiment'])"
   ]
  },
  {
   "cell_type": "markdown",
   "metadata": {},
   "source": [
    "## correlation finding"
   ]
  },
  {
   "cell_type": "markdown",
   "metadata": {},
   "source": [
    "inner join two dataframe with key = id, value = sentiment and risk-score"
   ]
  },
  {
   "cell_type": "code",
   "execution_count": 34,
   "metadata": {},
   "outputs": [
    {
     "data": {
      "text/plain": [
       "(2765, 12)"
      ]
     },
     "execution_count": 34,
     "metadata": {},
     "output_type": "execute_result"
    }
   ],
   "source": [
    "text.shape"
   ]
  },
  {
   "cell_type": "code",
   "execution_count": 35,
   "metadata": {},
   "outputs": [],
   "source": [
    "df=pd.read_csv('zscore_with_id.csv')"
   ]
  },
  {
   "cell_type": "code",
   "execution_count": 36,
   "metadata": {},
   "outputs": [
    {
     "data": {
      "text/plain": [
       "(1319, 7)"
      ]
     },
     "execution_count": 36,
     "metadata": {},
     "output_type": "execute_result"
    }
   ],
   "source": [
    "df.shape"
   ]
  },
  {
   "cell_type": "code",
   "execution_count": 63,
   "metadata": {},
   "outputs": [
    {
     "data": {
      "text/html": [
       "<div>\n",
       "<style scoped>\n",
       "    .dataframe tbody tr th:only-of-type {\n",
       "        vertical-align: middle;\n",
       "    }\n",
       "\n",
       "    .dataframe tbody tr th {\n",
       "        vertical-align: top;\n",
       "    }\n",
       "\n",
       "    .dataframe thead th {\n",
       "        text-align: right;\n",
       "    }\n",
       "</style>\n",
       "<table border=\"1\" class=\"dataframe\">\n",
       "  <thead>\n",
       "    <tr style=\"text-align: right;\">\n",
       "      <th></th>\n",
       "      <th>gangid</th>\n",
       "      <th>sum</th>\n",
       "    </tr>\n",
       "  </thead>\n",
       "  <tbody>\n",
       "    <tr>\n",
       "      <th>0</th>\n",
       "      <td>BVCB-0-144-1</td>\n",
       "      <td>-7.812063</td>\n",
       "    </tr>\n",
       "    <tr>\n",
       "      <th>1</th>\n",
       "      <td>BVCB-0-174-1</td>\n",
       "      <td>2.120676</td>\n",
       "    </tr>\n",
       "    <tr>\n",
       "      <th>2</th>\n",
       "      <td>BVCB-0-174-1</td>\n",
       "      <td>2.965543</td>\n",
       "    </tr>\n",
       "    <tr>\n",
       "      <th>5</th>\n",
       "      <td>Southeast 3-10-18-1</td>\n",
       "      <td>-8.555216</td>\n",
       "    </tr>\n",
       "    <tr>\n",
       "      <th>6</th>\n",
       "      <td>Southeast 3-10-17-1</td>\n",
       "      <td>-8.555216</td>\n",
       "    </tr>\n",
       "  </tbody>\n",
       "</table>\n",
       "</div>"
      ],
      "text/plain": [
       "                gangid       sum\n",
       "0         BVCB-0-144-1 -7.812063\n",
       "1         BVCB-0-174-1  2.120676\n",
       "2         BVCB-0-174-1  2.965543\n",
       "5  Southeast 3-10-18-1 -8.555216\n",
       "6  Southeast 3-10-17-1 -8.555216"
      ]
     },
     "execution_count": 63,
     "metadata": {},
     "output_type": "execute_result"
    }
   ],
   "source": [
    "risk=df.loc[:,['gangid','sum']]\n",
    "risk.head()"
   ]
  },
  {
   "cell_type": "code",
   "execution_count": 38,
   "metadata": {},
   "outputs": [],
   "source": [
    "\n",
    "emotion=text.loc[:,['GRYD_ETO_ID','sentiment']]"
   ]
  },
  {
   "cell_type": "code",
   "execution_count": 39,
   "metadata": {},
   "outputs": [
    {
     "data": {
      "text/plain": [
       "(2765, 2)"
      ]
     },
     "execution_count": 39,
     "metadata": {},
     "output_type": "execute_result"
    }
   ],
   "source": [
    "emotion=emotion.rename(columns={'GRYD_ETO_ID':'gangid'})\n",
    "emotion.shape"
   ]
  },
  {
   "cell_type": "code",
   "execution_count": 40,
   "metadata": {},
   "outputs": [],
   "source": [
    "merged_inner = pd.merge(left=emotion, right=risk, left_on='gangid', right_on='gangid')"
   ]
  },
  {
   "cell_type": "code",
   "execution_count": 41,
   "metadata": {},
   "outputs": [
    {
     "data": {
      "text/plain": [
       "(2021, 3)"
      ]
     },
     "execution_count": 41,
     "metadata": {},
     "output_type": "execute_result"
    }
   ],
   "source": [
    "merged_inner.shape"
   ]
  },
  {
   "cell_type": "code",
   "execution_count": 42,
   "metadata": {},
   "outputs": [],
   "source": [
    "df=merged_inner.dropna()"
   ]
  },
  {
   "cell_type": "code",
   "execution_count": 43,
   "metadata": {},
   "outputs": [
    {
     "data": {
      "text/plain": [
       "(719, 3)"
      ]
     },
     "execution_count": 43,
     "metadata": {},
     "output_type": "execute_result"
    }
   ],
   "source": [
    "df.shape"
   ]
  },
  {
   "cell_type": "code",
   "execution_count": 44,
   "metadata": {},
   "outputs": [
    {
     "data": {
      "text/html": [
       "<div>\n",
       "<style scoped>\n",
       "    .dataframe tbody tr th:only-of-type {\n",
       "        vertical-align: middle;\n",
       "    }\n",
       "\n",
       "    .dataframe tbody tr th {\n",
       "        vertical-align: top;\n",
       "    }\n",
       "\n",
       "    .dataframe thead th {\n",
       "        text-align: right;\n",
       "    }\n",
       "</style>\n",
       "<table border=\"1\" class=\"dataframe\">\n",
       "  <thead>\n",
       "    <tr style=\"text-align: right;\">\n",
       "      <th></th>\n",
       "      <th>gangid</th>\n",
       "      <th>sentiment</th>\n",
       "      <th>sum</th>\n",
       "    </tr>\n",
       "  </thead>\n",
       "  <tbody>\n",
       "    <tr>\n",
       "      <th>0</th>\n",
       "      <td>BVCB-0-144-1</td>\n",
       "      <td>fear</td>\n",
       "      <td>-7.812063</td>\n",
       "    </tr>\n",
       "    <tr>\n",
       "      <th>1</th>\n",
       "      <td>BVCB-0-174-1</td>\n",
       "      <td>sadness</td>\n",
       "      <td>2.120676</td>\n",
       "    </tr>\n",
       "    <tr>\n",
       "      <th>2</th>\n",
       "      <td>BVCB-0-174-1</td>\n",
       "      <td>sadness</td>\n",
       "      <td>2.965543</td>\n",
       "    </tr>\n",
       "    <tr>\n",
       "      <th>5</th>\n",
       "      <td>Southeast 3-10-18-1</td>\n",
       "      <td>boredom</td>\n",
       "      <td>-8.555216</td>\n",
       "    </tr>\n",
       "    <tr>\n",
       "      <th>6</th>\n",
       "      <td>Southeast 3-10-17-1</td>\n",
       "      <td>boredom</td>\n",
       "      <td>-8.555216</td>\n",
       "    </tr>\n",
       "  </tbody>\n",
       "</table>\n",
       "</div>"
      ],
      "text/plain": [
       "                gangid sentiment       sum\n",
       "0         BVCB-0-144-1      fear -7.812063\n",
       "1         BVCB-0-174-1   sadness  2.120676\n",
       "2         BVCB-0-174-1   sadness  2.965543\n",
       "5  Southeast 3-10-18-1   boredom -8.555216\n",
       "6  Southeast 3-10-17-1   boredom -8.555216"
      ]
     },
     "execution_count": 44,
     "metadata": {},
     "output_type": "execute_result"
    }
   ],
   "source": [
    "df.head()\n",
    "#df is the final one"
   ]
  },
  {
   "cell_type": "code",
   "execution_count": 45,
   "metadata": {},
   "outputs": [
    {
     "data": {
      "text/plain": [
       "Text(0, 0.5, 'z_score')"
      ]
     },
     "execution_count": 45,
     "metadata": {},
     "output_type": "execute_result"
    },
    {
     "data": {
      "image/png": "[encoded data removed]",
      "text/plain": [
       "<Figure size 432x288 with 1 Axes>"
      ]
     },
     "metadata": {
      "needs_background": "light"
     },
     "output_type": "display_data"
    }
   ],
   "source": [
    "sns.boxplot(x='sentiment',y='sum',data=df,palette='rainbow')\n",
    "plt.ylabel('z_score')"
   ]
  },
  {
   "cell_type": "code",
   "execution_count": 46,
   "metadata": {},
   "outputs": [
    {
     "data": {
      "text/plain": [
       "Text(0, 0.5, 'z_score')"
      ]
     },
     "execution_count": 46,
     "metadata": {},
     "output_type": "execute_result"
    },
    {
     "data": {
      "image/png": "[encoded data removed]",
      "text/plain": [
       "<Figure size 432x288 with 1 Axes>"
      ]
     },
     "metadata": {
      "needs_background": "light"
     },
     "output_type": "display_data"
    }
   ],
   "source": [
    "sns.swarmplot(x='sentiment',y='sum',data=df,palette='Set2')\n",
    "plt.ylabel('z_score')"
   ]
  },
  {
   "cell_type": "markdown",
   "metadata": {},
   "source": [
    "do the same with activity and risk-score"
   ]
  },
  {
   "cell_type": "code",
   "execution_count": 67,
   "metadata": {},
   "outputs": [],
   "source": [
    "activity=pd.read_csv('SET_S6b_Activities_Categorized.csv')"
   ]
  },
  {
   "cell_type": "code",
   "execution_count": 68,
   "metadata": {},
   "outputs": [],
   "source": [
    "activity=activity.drop(columns = \"Unnamed: 0\")"
   ]
  },
  {
   "cell_type": "code",
   "execution_count": 83,
   "metadata": {},
   "outputs": [],
   "source": [
    "activity=activity.rename(columns={'GRYD_ETO_ID':'gangid'})\n",
    "activity=activity.dropna()"
   ]
  },
  {
   "cell_type": "code",
   "execution_count": 94,
   "metadata": {},
   "outputs": [
    {
     "data": {
      "text/html": [
       "<div>\n",
       "<style scoped>\n",
       "    .dataframe tbody tr th:only-of-type {\n",
       "        vertical-align: middle;\n",
       "    }\n",
       "\n",
       "    .dataframe tbody tr th {\n",
       "        vertical-align: top;\n",
       "    }\n",
       "\n",
       "    .dataframe thead th {\n",
       "        text-align: right;\n",
       "    }\n",
       "</style>\n",
       "<table border=\"1\" class=\"dataframe\">\n",
       "  <thead>\n",
       "    <tr style=\"text-align: right;\">\n",
       "      <th></th>\n",
       "      <th>gangid</th>\n",
       "      <th>categorized_activity</th>\n",
       "    </tr>\n",
       "  </thead>\n",
       "  <tbody>\n",
       "    <tr>\n",
       "      <th>0</th>\n",
       "      <td>BVCB-0-144-1</td>\n",
       "      <td>sports</td>\n",
       "    </tr>\n",
       "    <tr>\n",
       "      <th>1</th>\n",
       "      <td>BVCB-0-174-1</td>\n",
       "      <td>sports</td>\n",
       "    </tr>\n",
       "    <tr>\n",
       "      <th>2</th>\n",
       "      <td>Southeast 3-10-24-1</td>\n",
       "      <td>volunteer</td>\n",
       "    </tr>\n",
       "    <tr>\n",
       "      <th>3</th>\n",
       "      <td>Southeast 3-10-18-1</td>\n",
       "      <td>art</td>\n",
       "    </tr>\n",
       "    <tr>\n",
       "      <th>4</th>\n",
       "      <td>Southeast 3-10-17-1</td>\n",
       "      <td>art</td>\n",
       "    </tr>\n",
       "  </tbody>\n",
       "</table>\n",
       "</div>"
      ],
      "text/plain": [
       "                gangid categorized_activity\n",
       "0         BVCB-0-144-1               sports\n",
       "1         BVCB-0-174-1               sports\n",
       "2  Southeast 3-10-24-1            volunteer\n",
       "3  Southeast 3-10-18-1                  art\n",
       "4  Southeast 3-10-17-1                  art"
      ]
     },
     "execution_count": 94,
     "metadata": {},
     "output_type": "execute_result"
    }
   ],
   "source": [
    "activity_new = pd.DataFrame(activity.Categorized_Activities.str.split(', ').tolist(), index=activity.gangid).stack()\n",
    "activity_new = activity_new.reset_index([0, 'gangid'])\n",
    "activity_new.columns = ['gangid', 'categorized_activity']\n",
    "activity_new.head()"
   ]
  },
  {
   "cell_type": "code",
   "execution_count": 95,
   "metadata": {},
   "outputs": [],
   "source": [
    "merged_new = pd.merge(left=activity_new, right=risk, left_on='gangid', right_on='gangid')"
   ]
  },
  {
   "cell_type": "code",
   "execution_count": null,
   "metadata": {},
   "outputs": [],
   "source": []
  },
  {
   "cell_type": "code",
   "execution_count": 96,
   "metadata": {},
   "outputs": [
    {
     "data": {
      "text/plain": [
       "Text(0, 0.5, 'z_score')"
      ]
     },
     "execution_count": 96,
     "metadata": {},
     "output_type": "execute_result"
    },
    {
     "data": {
      "image/png": "[encoded data removed]",
      "text/plain": [
       "<Figure size 432x288 with 1 Axes>"
      ]
     },
     "metadata": {
      "needs_background": "light"
     },
     "output_type": "display_data"
    }
   ],
   "source": [
    "sns.boxplot(x='categorized_activity',y='sum',data=merged_new,palette='rainbow')\n",
    "plt.ylabel('z_score')"
   ]
  },
  {
   "cell_type": "markdown",
   "metadata": {},
   "source": [
    "!!!!!!!!!!!!!!! too many actvities, re-grouping"
   ]
  },
  {
   "cell_type": "code",
   "execution_count": 182,
   "metadata": {},
   "outputs": [
    {
     "data": {
      "text/plain": [
       "FreqDist({'job': 183, 'sports': 164, 'study': 128, 'selfimprovement': 105, 'program': 84, 'volunteer': 67, 'other': 45, 'church': 42, 'art': 40, 'therapy': 39, ...})"
      ]
     },
     "execution_count": 182,
     "metadata": {},
     "output_type": "execute_result"
    }
   ],
   "source": [
    "contents=merged_new['categorized_activity'].dropna().values\n",
    "freq = nltk.FreqDist(contents)\n",
    "freq"
   ]
  },
  {
   "cell_type": "code",
   "execution_count": 183,
   "metadata": {},
   "outputs": [
    {
     "data": {
      "text/plain": [
       "{'job': 183,\n",
       " 'sports': 164,\n",
       " 'study': 128,\n",
       " 'selfimprovement': 105,\n",
       " 'program': 84,\n",
       " 'volunteer': 67,\n",
       " 'other': 45,\n",
       " 'church': 42,\n",
       " 'art': 40,\n",
       " 'therapy': 39,\n",
       " 'entertainment': 20,\n",
       " 'family': 10}"
      ]
     },
     "execution_count": 183,
     "metadata": {},
     "output_type": "execute_result"
    }
   ],
   "source": [
    "from collections import Counter\n",
    "plot_dict = dict(Counter(freq).most_common(50))\n",
    "plot_dict"
   ]
  },
  {
   "cell_type": "code",
   "execution_count": 184,
   "metadata": {},
   "outputs": [],
   "source": [
    "merged_new.loc[merged_new['categorized_activity'] == 'work', 'categorized_activity'] = 'job'\n",
    "merged_new.loc[merged_new['categorized_activity'] == 'Sports', 'categorized_activity'] = 'sports'\n",
    "merged_new.loc[merged_new['categorized_activity'] == 'school', 'categorized_activity'] = 'study'\n",
    "merged_new.loc[merged_new['categorized_activity'] == 'voluteer', 'categorized_activity'] = 'volunteer'\n",
    "merged_new.loc[merged_new['categorized_activity'] == 'workout', 'categorized_activity'] = 'sports'\n",
    "merged_new.loc[merged_new['categorized_activity'] == 'tutoring', 'categorized_activity'] = 'other'\n",
    "merged_new.loc[merged_new['categorized_activity'] == 'community', 'categorized_activity'] = 'volunteer'\n",
    "merged_new.loc[merged_new['categorized_activity'] == 'sefimprovement', 'categorized_activity'] = 'selfimprovement'\n",
    "#merged_new is the final one"
   ]
  },
  {
   "cell_type": "code",
   "execution_count": 185,
   "metadata": {},
   "outputs": [
    {
     "data": {
      "text/plain": [
       "(array([ 0,  1,  2,  3,  4,  5,  6,  7,  8,  9, 10, 11]),\n",
       " <a list of 12 Text xticklabel objects>)"
      ]
     },
     "execution_count": 185,
     "metadata": {},
     "output_type": "execute_result"
    },
    {
     "data": {
      "image/png": "[encoded data removed]",
      "text/plain": [
       "<Figure size 432x288 with 1 Axes>"
      ]
     },
     "metadata": {
      "needs_background": "light"
     },
     "output_type": "display_data"
    }
   ],
   "source": [
    "sns.boxplot(x='categorized_activity',y='sum',data=merged_new,palette='rainbow')\n",
    "plt.ylabel('z_score')\n",
    "plt.xticks(rotation=90)"
   ]
  },
  {
   "cell_type": "code",
   "execution_count": 186,
   "metadata": {},
   "outputs": [
    {
     "data": {
      "text/plain": [
       "{'job': 183,\n",
       " 'sports': 164,\n",
       " 'study': 128,\n",
       " 'selfimprovement': 105,\n",
       " 'program': 84,\n",
       " 'volunteer': 67,\n",
       " 'other': 45,\n",
       " 'church': 42,\n",
       " 'art': 40,\n",
       " 'therapy': 39,\n",
       " 'entertainment': 20,\n",
       " 'family': 10}"
      ]
     },
     "execution_count": 186,
     "metadata": {},
     "output_type": "execute_result"
    }
   ],
   "source": [
    "contents=merged_new['categorized_activity'].dropna().values\n",
    "freq = nltk.FreqDist(contents)\n",
    "from collections import Counter\n",
    "plot_dict = dict(Counter(freq).most_common(50))\n",
    "plot_dict"
   ]
  },
  {
   "cell_type": "code",
   "execution_count": 187,
   "metadata": {},
   "outputs": [
    {
     "data": {
      "image/png": "[encoded data removed]",
      "text/plain": [
       "<Figure size 432x288 with 1 Axes>"
      ]
     },
     "metadata": {},
     "output_type": "display_data"
    }
   ],
   "source": [
    "labels = plot_dict.keys()\n",
    "sizes = plot_dict.values()\n",
    "\n",
    "\n",
    "fig1, ax1 = plt.subplots()\n",
    "ax1.pie(sizes, labels=labels, autopct='%1.1f%%',\n",
    "        shadow=True, startangle=90)\n",
    "ax1.axis('equal')  # Equal aspect ratio ensures that pie is drawn as a circle.\n",
    "\n",
    "plt.show()"
   ]
  },
  {
   "cell_type": "markdown",
   "metadata": {},
   "source": [
    "do the same with gender and age "
   ]
  },
  {
   "cell_type": "code",
   "execution_count": 188,
   "metadata": {},
   "outputs": [],
   "source": [
    "ag=pd.read_csv('SET_processed_latest_version.csv')"
   ]
  },
  {
   "cell_type": "code",
   "execution_count": 189,
   "metadata": {},
   "outputs": [],
   "source": [
    "ag=ag.loc[:,['GRYD_ETO_ID','AGE_1_FB','SEX_1']]\n",
    "ag=ag.rename(columns={'GRYD_ETO_ID':'gangid','AGE_1_FB':'age','SEX_1':'sex'})"
   ]
  },
  {
   "cell_type": "code",
   "execution_count": 190,
   "metadata": {},
   "outputs": [],
   "source": [
    "ag = pd.merge(left=ag, right=risk, left_on='gangid', right_on='gangid')"
   ]
  },
  {
   "cell_type": "code",
   "execution_count": 191,
   "metadata": {},
   "outputs": [
    {
     "data": {
      "text/html": [
       "<div>\n",
       "<style scoped>\n",
       "    .dataframe tbody tr th:only-of-type {\n",
       "        vertical-align: middle;\n",
       "    }\n",
       "\n",
       "    .dataframe tbody tr th {\n",
       "        vertical-align: top;\n",
       "    }\n",
       "\n",
       "    .dataframe thead th {\n",
       "        text-align: right;\n",
       "    }\n",
       "</style>\n",
       "<table border=\"1\" class=\"dataframe\">\n",
       "  <thead>\n",
       "    <tr style=\"text-align: right;\">\n",
       "      <th></th>\n",
       "      <th>gangid</th>\n",
       "      <th>age</th>\n",
       "      <th>sex</th>\n",
       "      <th>sum</th>\n",
       "    </tr>\n",
       "  </thead>\n",
       "  <tbody>\n",
       "    <tr>\n",
       "      <th>0</th>\n",
       "      <td>BVCB-0-144-1</td>\n",
       "      <td>20.0</td>\n",
       "      <td>2</td>\n",
       "      <td>-7.812063</td>\n",
       "    </tr>\n",
       "    <tr>\n",
       "      <th>1</th>\n",
       "      <td>BVCB-0-174-1</td>\n",
       "      <td>21.0</td>\n",
       "      <td>1</td>\n",
       "      <td>2.120676</td>\n",
       "    </tr>\n",
       "    <tr>\n",
       "      <th>2</th>\n",
       "      <td>BVCB-0-174-1</td>\n",
       "      <td>21.0</td>\n",
       "      <td>1</td>\n",
       "      <td>2.965543</td>\n",
       "    </tr>\n",
       "    <tr>\n",
       "      <th>3</th>\n",
       "      <td>BVCB-0-174-1</td>\n",
       "      <td>20.0</td>\n",
       "      <td>1</td>\n",
       "      <td>2.120676</td>\n",
       "    </tr>\n",
       "    <tr>\n",
       "      <th>4</th>\n",
       "      <td>BVCB-0-174-1</td>\n",
       "      <td>20.0</td>\n",
       "      <td>1</td>\n",
       "      <td>2.965543</td>\n",
       "    </tr>\n",
       "  </tbody>\n",
       "</table>\n",
       "</div>"
      ],
      "text/plain": [
       "         gangid   age  sex       sum\n",
       "0  BVCB-0-144-1  20.0    2 -7.812063\n",
       "1  BVCB-0-174-1  21.0    1  2.120676\n",
       "2  BVCB-0-174-1  21.0    1  2.965543\n",
       "3  BVCB-0-174-1  20.0    1  2.120676\n",
       "4  BVCB-0-174-1  20.0    1  2.965543"
      ]
     },
     "execution_count": 191,
     "metadata": {},
     "output_type": "execute_result"
    }
   ],
   "source": [
    "ag.head()"
   ]
  },
  {
   "cell_type": "code",
   "execution_count": 192,
   "metadata": {},
   "outputs": [
    {
     "data": {
      "text/plain": [
       "Text(0, 0.5, 'z_score')"
      ]
     },
     "execution_count": 192,
     "metadata": {},
     "output_type": "execute_result"
    },
    {
     "data": {
      "image/png": "[encoded data removed]",
      "text/plain": [
       "<Figure size 432x288 with 1 Axes>"
      ]
     },
     "metadata": {
      "needs_background": "light"
     },
     "output_type": "display_data"
    }
   ],
   "source": [
    "sns.boxplot(x='sex',y='sum',data=ag,palette='rainbow')\n",
    "plt.ylabel('z_score')"
   ]
  },
  {
   "cell_type": "code",
   "execution_count": 193,
   "metadata": {},
   "outputs": [],
   "source": [
    "for i in range (13,18):\n",
    "    ag.loc[ag['age'] == i, 'age'] = '13-17'\n",
    "    \n",
    "for i in range (18,25):\n",
    "    ag.loc[ag['age'] == i, 'age'] = '19-24'\n",
    "    \n",
    "for i in range (25,31):\n",
    "    ag.loc[ag['age'] == i, 'age'] = '25-30'\n",
    "    \n",
    "for i in range (31,38):\n",
    "    ag.loc[ag['age'] == i, 'age'] = '31-37'    "
   ]
  },
  {
   "cell_type": "code",
   "execution_count": 194,
   "metadata": {},
   "outputs": [
    {
     "data": {
      "text/plain": [
       "(array([0, 1, 2, 3]), <a list of 4 Text xticklabel objects>)"
      ]
     },
     "execution_count": 194,
     "metadata": {},
     "output_type": "execute_result"
    },
    {
     "data": {
      "image/png": "[encoded data removed]",
      "text/plain": [
       "<Figure size 432x288 with 1 Axes>"
      ]
     },
     "metadata": {
      "needs_background": "light"
     },
     "output_type": "display_data"
    }
   ],
   "source": [
    "sns.boxplot(x='age',y='sum',data=ag,palette='rainbow')\n",
    "plt.ylabel('z_score')\n",
    "plt.xticks(rotation=90)"
   ]
  },
  {
   "cell_type": "code",
   "execution_count": 179,
   "metadata": {},
   "outputs": [
    {
     "data": {
      "text/html": [
       "<div>\n",
       "<style scoped>\n",
       "    .dataframe tbody tr th:only-of-type {\n",
       "        vertical-align: middle;\n",
       "    }\n",
       "\n",
       "    .dataframe tbody tr th {\n",
       "        vertical-align: top;\n",
       "    }\n",
       "\n",
       "    .dataframe thead th {\n",
       "        text-align: right;\n",
       "    }\n",
       "</style>\n",
       "<table border=\"1\" class=\"dataframe\">\n",
       "  <thead>\n",
       "    <tr style=\"text-align: right;\">\n",
       "      <th></th>\n",
       "      <th>gangid</th>\n",
       "      <th>age</th>\n",
       "      <th>sex</th>\n",
       "      <th>sum</th>\n",
       "    </tr>\n",
       "  </thead>\n",
       "  <tbody>\n",
       "    <tr>\n",
       "      <th>0</th>\n",
       "      <td>BVCB-0-144-1</td>\n",
       "      <td>19-25</td>\n",
       "      <td>2</td>\n",
       "      <td>-7.812063</td>\n",
       "    </tr>\n",
       "    <tr>\n",
       "      <th>1</th>\n",
       "      <td>BVCB-0-174-1</td>\n",
       "      <td>19-25</td>\n",
       "      <td>1</td>\n",
       "      <td>2.120676</td>\n",
       "    </tr>\n",
       "    <tr>\n",
       "      <th>2</th>\n",
       "      <td>BVCB-0-174-1</td>\n",
       "      <td>19-25</td>\n",
       "      <td>1</td>\n",
       "      <td>2.965543</td>\n",
       "    </tr>\n",
       "    <tr>\n",
       "      <th>3</th>\n",
       "      <td>BVCB-0-174-1</td>\n",
       "      <td>19-25</td>\n",
       "      <td>1</td>\n",
       "      <td>2.120676</td>\n",
       "    </tr>\n",
       "    <tr>\n",
       "      <th>4</th>\n",
       "      <td>BVCB-0-174-1</td>\n",
       "      <td>19-25</td>\n",
       "      <td>1</td>\n",
       "      <td>2.965543</td>\n",
       "    </tr>\n",
       "    <tr>\n",
       "      <th>5</th>\n",
       "      <td>Southeast 3-10-18-1</td>\n",
       "      <td>25</td>\n",
       "      <td>1</td>\n",
       "      <td>-8.555216</td>\n",
       "    </tr>\n",
       "    <tr>\n",
       "      <th>6</th>\n",
       "      <td>Southeast 3-10-17-1</td>\n",
       "      <td>19-25</td>\n",
       "      <td>2</td>\n",
       "      <td>-8.555216</td>\n",
       "    </tr>\n",
       "    <tr>\n",
       "      <th>7</th>\n",
       "      <td>Southeast 3-10-19-1</td>\n",
       "      <td>19-25</td>\n",
       "      <td>2</td>\n",
       "      <td>-8.555216</td>\n",
       "    </tr>\n",
       "    <tr>\n",
       "      <th>8</th>\n",
       "      <td>Foothill-14-192-1</td>\n",
       "      <td>19-25</td>\n",
       "      <td>2</td>\n",
       "      <td>1.034107</td>\n",
       "    </tr>\n",
       "    <tr>\n",
       "      <th>9</th>\n",
       "      <td>BVCB-0-77-1</td>\n",
       "      <td>19-25</td>\n",
       "      <td>2</td>\n",
       "      <td>-5.318873</td>\n",
       "    </tr>\n",
       "    <tr>\n",
       "      <th>10</th>\n",
       "      <td>SPWTN-0-84-1</td>\n",
       "      <td>19-25</td>\n",
       "      <td>1</td>\n",
       "      <td>2.712419</td>\n",
       "    </tr>\n",
       "    <tr>\n",
       "      <th>11</th>\n",
       "      <td>Harbor-21-127-1</td>\n",
       "      <td>19-25</td>\n",
       "      <td>1</td>\n",
       "      <td>3.071486</td>\n",
       "    </tr>\n",
       "    <tr>\n",
       "      <th>12</th>\n",
       "      <td>Harbor-21-128-1</td>\n",
       "      <td>19-25</td>\n",
       "      <td>1</td>\n",
       "      <td>1.528802</td>\n",
       "    </tr>\n",
       "    <tr>\n",
       "      <th>13</th>\n",
       "      <td>RPARGR-PP-15-2</td>\n",
       "      <td>13-18</td>\n",
       "      <td>2</td>\n",
       "      <td>1.959227</td>\n",
       "    </tr>\n",
       "    <tr>\n",
       "      <th>14</th>\n",
       "      <td>Hollywood-12-34-1</td>\n",
       "      <td>13-18</td>\n",
       "      <td>2</td>\n",
       "      <td>0.765234</td>\n",
       "    </tr>\n",
       "    <tr>\n",
       "      <th>15</th>\n",
       "      <td>Hollywood-12-36-1</td>\n",
       "      <td>25</td>\n",
       "      <td>1</td>\n",
       "      <td>4.459201</td>\n",
       "    </tr>\n",
       "    <tr>\n",
       "      <th>16</th>\n",
       "      <td>Southeast 1-22-23-1</td>\n",
       "      <td>13-18</td>\n",
       "      <td>1</td>\n",
       "      <td>5.229353</td>\n",
       "    </tr>\n",
       "    <tr>\n",
       "      <th>17</th>\n",
       "      <td>Harbor-21-111-1</td>\n",
       "      <td>19-25</td>\n",
       "      <td>1</td>\n",
       "      <td>0.728295</td>\n",
       "    </tr>\n",
       "    <tr>\n",
       "      <th>18</th>\n",
       "      <td>Northeast-20-25-2</td>\n",
       "      <td>13-18</td>\n",
       "      <td>2</td>\n",
       "      <td>-2.234377</td>\n",
       "    </tr>\n",
       "    <tr>\n",
       "      <th>19</th>\n",
       "      <td>Northeast-20-25-2</td>\n",
       "      <td>13-18</td>\n",
       "      <td>2</td>\n",
       "      <td>-2.234377</td>\n",
       "    </tr>\n",
       "    <tr>\n",
       "      <th>20</th>\n",
       "      <td>Northeast-20-25-2</td>\n",
       "      <td>13-18</td>\n",
       "      <td>2</td>\n",
       "      <td>-2.234377</td>\n",
       "    </tr>\n",
       "    <tr>\n",
       "      <th>21</th>\n",
       "      <td>Northeast-20-25-2</td>\n",
       "      <td>13-18</td>\n",
       "      <td>2</td>\n",
       "      <td>-2.234377</td>\n",
       "    </tr>\n",
       "    <tr>\n",
       "      <th>22</th>\n",
       "      <td>Northeast-20-12-2</td>\n",
       "      <td>18</td>\n",
       "      <td>2</td>\n",
       "      <td>3.120076</td>\n",
       "    </tr>\n",
       "    <tr>\n",
       "      <th>23</th>\n",
       "      <td>Northeast-20-97-2</td>\n",
       "      <td>13-18</td>\n",
       "      <td>2</td>\n",
       "      <td>-1.270068</td>\n",
       "    </tr>\n",
       "    <tr>\n",
       "      <th>24</th>\n",
       "      <td>Northeast-20-97-2</td>\n",
       "      <td>13-18</td>\n",
       "      <td>2</td>\n",
       "      <td>-1.270068</td>\n",
       "    </tr>\n",
       "    <tr>\n",
       "      <th>25</th>\n",
       "      <td>Foothill-14-219-1</td>\n",
       "      <td>18</td>\n",
       "      <td>2</td>\n",
       "      <td>-7.724589</td>\n",
       "    </tr>\n",
       "    <tr>\n",
       "      <th>26</th>\n",
       "      <td>Southeast 1-22-27-1</td>\n",
       "      <td>19-25</td>\n",
       "      <td>2</td>\n",
       "      <td>-5.327098</td>\n",
       "    </tr>\n",
       "    <tr>\n",
       "      <th>27</th>\n",
       "      <td>Northeast-20-98-2</td>\n",
       "      <td>13-18</td>\n",
       "      <td>2</td>\n",
       "      <td>-0.163984</td>\n",
       "    </tr>\n",
       "    <tr>\n",
       "      <th>28</th>\n",
       "      <td>Southeast 1-22-24-1</td>\n",
       "      <td>19-25</td>\n",
       "      <td>2</td>\n",
       "      <td>-1.459691</td>\n",
       "    </tr>\n",
       "    <tr>\n",
       "      <th>29</th>\n",
       "      <td>Northeast-20-64-2</td>\n",
       "      <td>13-18</td>\n",
       "      <td>1</td>\n",
       "      <td>-0.266134</td>\n",
       "    </tr>\n",
       "    <tr>\n",
       "      <th>...</th>\n",
       "      <td>...</td>\n",
       "      <td>...</td>\n",
       "      <td>...</td>\n",
       "      <td>...</td>\n",
       "    </tr>\n",
       "    <tr>\n",
       "      <th>1405</th>\n",
       "      <td>Hollenbeck 1-20-226-2</td>\n",
       "      <td>13-18</td>\n",
       "      <td>1</td>\n",
       "      <td>3.910642</td>\n",
       "    </tr>\n",
       "    <tr>\n",
       "      <th>1406</th>\n",
       "      <td>Harbor-21-246-1</td>\n",
       "      <td>18</td>\n",
       "      <td>1</td>\n",
       "      <td>-1.485817</td>\n",
       "    </tr>\n",
       "    <tr>\n",
       "      <th>1407</th>\n",
       "      <td>Hollenbeck 3-20-265-1</td>\n",
       "      <td>19-25</td>\n",
       "      <td>1</td>\n",
       "      <td>1.643274</td>\n",
       "    </tr>\n",
       "    <tr>\n",
       "      <th>1408</th>\n",
       "      <td>Hollenbeck 3-20-3-4</td>\n",
       "      <td>19-25</td>\n",
       "      <td>2</td>\n",
       "      <td>-5.788183</td>\n",
       "    </tr>\n",
       "    <tr>\n",
       "      <th>1409</th>\n",
       "      <td>Harbor-21-239-1</td>\n",
       "      <td>19-25</td>\n",
       "      <td>2</td>\n",
       "      <td>-0.311602</td>\n",
       "    </tr>\n",
       "    <tr>\n",
       "      <th>1410</th>\n",
       "      <td>Harbor-21-239-1</td>\n",
       "      <td>19-25</td>\n",
       "      <td>2</td>\n",
       "      <td>-0.311602</td>\n",
       "    </tr>\n",
       "    <tr>\n",
       "      <th>1411</th>\n",
       "      <td>Harbor-21-239-1</td>\n",
       "      <td>19-25</td>\n",
       "      <td>2</td>\n",
       "      <td>-0.311602</td>\n",
       "    </tr>\n",
       "    <tr>\n",
       "      <th>1412</th>\n",
       "      <td>Harbor-21-239-1</td>\n",
       "      <td>19-25</td>\n",
       "      <td>2</td>\n",
       "      <td>-0.311602</td>\n",
       "    </tr>\n",
       "    <tr>\n",
       "      <th>1413</th>\n",
       "      <td>Hollenbeck 2-20-190-3</td>\n",
       "      <td>13-18</td>\n",
       "      <td>2</td>\n",
       "      <td>-1.597167</td>\n",
       "    </tr>\n",
       "    <tr>\n",
       "      <th>1414</th>\n",
       "      <td>Hollenbeck 2-20-214-2</td>\n",
       "      <td>13-18</td>\n",
       "      <td>2</td>\n",
       "      <td>2.262451</td>\n",
       "    </tr>\n",
       "    <tr>\n",
       "      <th>1415</th>\n",
       "      <td>Southwest 2-23-93-2</td>\n",
       "      <td>18</td>\n",
       "      <td>1</td>\n",
       "      <td>-3.710874</td>\n",
       "    </tr>\n",
       "    <tr>\n",
       "      <th>1416</th>\n",
       "      <td>Newton 1-17-254-2</td>\n",
       "      <td>25</td>\n",
       "      <td>2</td>\n",
       "      <td>3.327733</td>\n",
       "    </tr>\n",
       "    <tr>\n",
       "      <th>1417</th>\n",
       "      <td>Hollenbeck 1-20-374-1</td>\n",
       "      <td>19-25</td>\n",
       "      <td>1</td>\n",
       "      <td>6.222605</td>\n",
       "    </tr>\n",
       "    <tr>\n",
       "      <th>1418</th>\n",
       "      <td>Hollenbeck 3-20-122-4</td>\n",
       "      <td>13-18</td>\n",
       "      <td>1</td>\n",
       "      <td>1.471144</td>\n",
       "    </tr>\n",
       "    <tr>\n",
       "      <th>1419</th>\n",
       "      <td>Newton 1-23-320-1</td>\n",
       "      <td>19-25</td>\n",
       "      <td>2</td>\n",
       "      <td>0.793741</td>\n",
       "    </tr>\n",
       "    <tr>\n",
       "      <th>1420</th>\n",
       "      <td>Newton 1-17-272-2</td>\n",
       "      <td>13-18</td>\n",
       "      <td>2</td>\n",
       "      <td>3.393919</td>\n",
       "    </tr>\n",
       "    <tr>\n",
       "      <th>1421</th>\n",
       "      <td>Northeast-25-25-1</td>\n",
       "      <td>13-18</td>\n",
       "      <td>2</td>\n",
       "      <td>1.744988</td>\n",
       "    </tr>\n",
       "    <tr>\n",
       "      <th>1422</th>\n",
       "      <td>Northeast-25-25-1</td>\n",
       "      <td>13-18</td>\n",
       "      <td>2</td>\n",
       "      <td>1.744988</td>\n",
       "    </tr>\n",
       "    <tr>\n",
       "      <th>1423</th>\n",
       "      <td>Foothill-14-506-1</td>\n",
       "      <td>18</td>\n",
       "      <td>1</td>\n",
       "      <td>-8.112904</td>\n",
       "    </tr>\n",
       "    <tr>\n",
       "      <th>1424</th>\n",
       "      <td>Northeast-25-24-1</td>\n",
       "      <td>19-25</td>\n",
       "      <td>1</td>\n",
       "      <td>4.070886</td>\n",
       "    </tr>\n",
       "    <tr>\n",
       "      <th>1425</th>\n",
       "      <td>Southeast 1-24-14-1</td>\n",
       "      <td>19-25</td>\n",
       "      <td>2</td>\n",
       "      <td>1.832898</td>\n",
       "    </tr>\n",
       "    <tr>\n",
       "      <th>1426</th>\n",
       "      <td>Southeast 1-24-14-1</td>\n",
       "      <td>19-25</td>\n",
       "      <td>2</td>\n",
       "      <td>1.832898</td>\n",
       "    </tr>\n",
       "    <tr>\n",
       "      <th>1427</th>\n",
       "      <td>Devonshire-Topanga-11-188-1</td>\n",
       "      <td>13-18</td>\n",
       "      <td>2</td>\n",
       "      <td>-0.018416</td>\n",
       "    </tr>\n",
       "    <tr>\n",
       "      <th>1428</th>\n",
       "      <td>Devonshire-Topanga-11-180-1</td>\n",
       "      <td>19-25</td>\n",
       "      <td>1</td>\n",
       "      <td>4.800104</td>\n",
       "    </tr>\n",
       "    <tr>\n",
       "      <th>1429</th>\n",
       "      <td>Southeast 2-20-268-1</td>\n",
       "      <td>25</td>\n",
       "      <td>1</td>\n",
       "      <td>-8.555216</td>\n",
       "    </tr>\n",
       "    <tr>\n",
       "      <th>1430</th>\n",
       "      <td>Southeast 2-20-326-1</td>\n",
       "      <td>18</td>\n",
       "      <td>1</td>\n",
       "      <td>-8.555216</td>\n",
       "    </tr>\n",
       "    <tr>\n",
       "      <th>1431</th>\n",
       "      <td>Newton 2-23-308-1</td>\n",
       "      <td>13-18</td>\n",
       "      <td>2</td>\n",
       "      <td>-1.882259</td>\n",
       "    </tr>\n",
       "    <tr>\n",
       "      <th>1432</th>\n",
       "      <td>Harbor-21-259-1</td>\n",
       "      <td>19-25</td>\n",
       "      <td>1</td>\n",
       "      <td>2.880451</td>\n",
       "    </tr>\n",
       "    <tr>\n",
       "      <th>1433</th>\n",
       "      <td>Devonshire-Topanga-11-177-1</td>\n",
       "      <td>19-25</td>\n",
       "      <td>2</td>\n",
       "      <td>4.384790</td>\n",
       "    </tr>\n",
       "    <tr>\n",
       "      <th>1434</th>\n",
       "      <td>Hollenbeck 1-20-177-3</td>\n",
       "      <td>13-18</td>\n",
       "      <td>1</td>\n",
       "      <td>2.181893</td>\n",
       "    </tr>\n",
       "  </tbody>\n",
       "</table>\n",
       "<p>1435 rows × 4 columns</p>\n",
       "</div>"
      ],
      "text/plain": [
       "                           gangid    age  sex       sum\n",
       "0                    BVCB-0-144-1  19-25    2 -7.812063\n",
       "1                    BVCB-0-174-1  19-25    1  2.120676\n",
       "2                    BVCB-0-174-1  19-25    1  2.965543\n",
       "3                    BVCB-0-174-1  19-25    1  2.120676\n",
       "4                    BVCB-0-174-1  19-25    1  2.965543\n",
       "5             Southeast 3-10-18-1     25    1 -8.555216\n",
       "6             Southeast 3-10-17-1  19-25    2 -8.555216\n",
       "7             Southeast 3-10-19-1  19-25    2 -8.555216\n",
       "8               Foothill-14-192-1  19-25    2  1.034107\n",
       "9                     BVCB-0-77-1  19-25    2 -5.318873\n",
       "10                   SPWTN-0-84-1  19-25    1  2.712419\n",
       "11                Harbor-21-127-1  19-25    1  3.071486\n",
       "12                Harbor-21-128-1  19-25    1  1.528802\n",
       "13                 RPARGR-PP-15-2  13-18    2  1.959227\n",
       "14              Hollywood-12-34-1  13-18    2  0.765234\n",
       "15              Hollywood-12-36-1     25    1  4.459201\n",
       "16            Southeast 1-22-23-1  13-18    1  5.229353\n",
       "17                Harbor-21-111-1  19-25    1  0.728295\n",
       "18              Northeast-20-25-2  13-18    2 -2.234377\n",
       "19              Northeast-20-25-2  13-18    2 -2.234377\n",
       "20              Northeast-20-25-2  13-18    2 -2.234377\n",
       "21              Northeast-20-25-2  13-18    2 -2.234377\n",
       "22              Northeast-20-12-2     18    2  3.120076\n",
       "23              Northeast-20-97-2  13-18    2 -1.270068\n",
       "24              Northeast-20-97-2  13-18    2 -1.270068\n",
       "25              Foothill-14-219-1     18    2 -7.724589\n",
       "26            Southeast 1-22-27-1  19-25    2 -5.327098\n",
       "27              Northeast-20-98-2  13-18    2 -0.163984\n",
       "28            Southeast 1-22-24-1  19-25    2 -1.459691\n",
       "29              Northeast-20-64-2  13-18    1 -0.266134\n",
       "...                           ...    ...  ...       ...\n",
       "1405        Hollenbeck 1-20-226-2  13-18    1  3.910642\n",
       "1406              Harbor-21-246-1     18    1 -1.485817\n",
       "1407        Hollenbeck 3-20-265-1  19-25    1  1.643274\n",
       "1408          Hollenbeck 3-20-3-4  19-25    2 -5.788183\n",
       "1409              Harbor-21-239-1  19-25    2 -0.311602\n",
       "1410              Harbor-21-239-1  19-25    2 -0.311602\n",
       "1411              Harbor-21-239-1  19-25    2 -0.311602\n",
       "1412              Harbor-21-239-1  19-25    2 -0.311602\n",
       "1413        Hollenbeck 2-20-190-3  13-18    2 -1.597167\n",
       "1414        Hollenbeck 2-20-214-2  13-18    2  2.262451\n",
       "1415          Southwest 2-23-93-2     18    1 -3.710874\n",
       "1416            Newton 1-17-254-2     25    2  3.327733\n",
       "1417        Hollenbeck 1-20-374-1  19-25    1  6.222605\n",
       "1418        Hollenbeck 3-20-122-4  13-18    1  1.471144\n",
       "1419            Newton 1-23-320-1  19-25    2  0.793741\n",
       "1420            Newton 1-17-272-2  13-18    2  3.393919\n",
       "1421            Northeast-25-25-1  13-18    2  1.744988\n",
       "1422            Northeast-25-25-1  13-18    2  1.744988\n",
       "1423            Foothill-14-506-1     18    1 -8.112904\n",
       "1424            Northeast-25-24-1  19-25    1  4.070886\n",
       "1425          Southeast 1-24-14-1  19-25    2  1.832898\n",
       "1426          Southeast 1-24-14-1  19-25    2  1.832898\n",
       "1427  Devonshire-Topanga-11-188-1  13-18    2 -0.018416\n",
       "1428  Devonshire-Topanga-11-180-1  19-25    1  4.800104\n",
       "1429         Southeast 2-20-268-1     25    1 -8.555216\n",
       "1430         Southeast 2-20-326-1     18    1 -8.555216\n",
       "1431            Newton 2-23-308-1  13-18    2 -1.882259\n",
       "1432              Harbor-21-259-1  19-25    1  2.880451\n",
       "1433  Devonshire-Topanga-11-177-1  19-25    2  4.384790\n",
       "1434        Hollenbeck 1-20-177-3  13-18    1  2.181893\n",
       "\n",
       "[1435 rows x 4 columns]"
      ]
     },
     "execution_count": 179,
     "metadata": {},
     "output_type": "execute_result"
    }
   ],
   "source": [
    "ag"
   ]
  },
  {
   "cell_type": "code",
   "execution_count": null,
   "metadata": {},
   "outputs": [],
   "source": [
    "emotion"
   ]
  }
 ],
 "metadata": {
  "kernelspec": {
   "display_name": "Python 3",
   "language": "python",
   "name": "python3"
  },
  "language_info": {
   "codemirror_mode": {
    "name": "ipython",
    "version": 3
   },
   "file_extension": ".py",
   "mimetype": "text/x-python",
   "name": "python",
   "nbconvert_exporter": "python",
   "pygments_lexer": "ipython3",
   "version": "3.7.6"
  }
 },
 "nbformat": 4,
 "nbformat_minor": 2
}
