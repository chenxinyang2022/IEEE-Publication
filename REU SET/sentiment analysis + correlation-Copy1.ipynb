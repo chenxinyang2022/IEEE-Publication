{
 "cells": [
  {
   "cell_type": "code",
   "execution_count": 1,
   "metadata": {},
   "outputs": [
    {
     "name": "stdout",
     "output_type": "stream",
     "text": [
      "!\"#$%&'()*+,-./:;<=>?@[\\]^_`{|}~\n"
     ]
    }
   ],
   "source": [
    "import numpy as np\n",
    "import pandas as pd\n",
    "import matplotlib.pyplot as plt\n",
    "import seaborn as sns\n",
    "import nltk\n",
    "from nltk.corpus import stopwords\n",
    "from string import punctuation\n",
    "print(punctuation)\n",
    "from nltk.tag import pos_tag\n",
    "from nltk.stem.wordnet import WordNetLemmatizer"
   ]
  },
  {
   "cell_type": "markdown",
   "metadata": {},
   "source": [
    "clean the original data"
   ]
  },
  {
   "cell_type": "code",
   "execution_count": 2,
   "metadata": {},
   "outputs": [],
   "source": [
    "df = pd.read_csv(\"SET_processed_latest_version.csv\")\n",
    "for i in range(df.shape[1]):\n",
    "    df.iloc[:,i]= df.iloc[:,i].replace([555, 777,888,999,'555','777','888','999' ], np.nan)\n",
    "text=df.loc[:,['GRYD_ETO_ID','S6b_Other_Activities','S11a_Comments','A1_Description','A2_Description','A3_Description','O1_other_group_name','Group_name_part1','PUSH_1','PULL_1']]\n",
    "text[\"text_all\"] = text.apply(lambda x: ','.join(x.dropna()), axis=1)\n"
   ]
  },
  {
   "cell_type": "markdown",
   "metadata": {},
   "source": [
    "normalize function"
   ]
  },
  {
   "cell_type": "code",
   "execution_count": 3,
   "metadata": {},
   "outputs": [],
   "source": [
    "import re, string\n",
    "\n",
    "def remove_noise(tweet_tokens, stop_words = ()):\n",
    "\n",
    "    cleaned_tokens = []\n",
    "\n",
    "    for token, tag in pos_tag(tweet_tokens):\n",
    "        token = re.sub('http[s]?://(?:[a-zA-Z]|[0-9]|[$-_@.&+#]|[!*\\(\\),]|'\\\n",
    "                       '(?:%[0-9a-fA-F][0-9a-fA-F]))+','', token)\n",
    "        token = re.sub(\"(@[A-Za-z0-9_]+)\",\"\", token)\n",
    "\n",
    "        if tag.startswith(\"NN\"):\n",
    "            pos = 'n'\n",
    "        elif tag.startswith('VB'):\n",
    "            pos = 'v'\n",
    "        else:\n",
    "            pos = 'a'\n",
    "\n",
    "        lemmatizer = WordNetLemmatizer()\n",
    "        token = lemmatizer.lemmatize(token, pos)\n",
    "\n",
    "        if len(token) > 0 and token not in string.punctuation and token.lower() not in stop_words:\n",
    "            cleaned_tokens.append(token.lower())\n",
    "    return cleaned_tokens"
   ]
  },
  {
   "cell_type": "code",
   "execution_count": 4,
   "metadata": {},
   "outputs": [],
   "source": [
    "from nltk.corpus import stopwords\n",
    "sw = stopwords.words('english')\n",
    "\n",
    "def  normalize (df):\n",
    "    contents=df.dropna().values\n",
    "    \n",
    "\n",
    "    \n",
    "    \n",
    "    for i in range (contents.shape[0]):\n",
    "        contents[i]=contents[i].replace(\",\", \" \")\n",
    "        \n",
    "    all_contents = [''.join([c for c in i if c not in punctuation]) for i in contents]\n",
    "    all_contents = [i.lower() for i in all_contents]\n",
    "    all_contents= [i.split() for i in all_contents]\n",
    "    \n",
    "    for i in range (len(all_contents)):\n",
    "        all_contents[i]=remove_noise(all_contents[i],sw)\n",
    "    \n",
    "    \n",
    "    clean_tokens = [[] for _ in range(len(all_contents))]\n",
    "    other_trash = ['im','a','u','2','wont','thats','dont', 'cant', 'didnt','isnt','ive','doesnt']\n",
    "    trash_tokens = sw + other_trash\n",
    "    for i in range(len(all_contents)):\n",
    "        for token in all_contents[i]:\n",
    "            if token not in trash_tokens:\n",
    "                clean_tokens[i].append(token)\n",
    "       \n",
    "    \n",
    "\n",
    "    \n",
    "    return clean_tokens"
   ]
  },
  {
   "cell_type": "code",
   "execution_count": 5,
   "metadata": {},
   "outputs": [],
   "source": [
    "original = normalize(text['S11a_Comments'])"
   ]
  },
  {
   "cell_type": "markdown",
   "metadata": {},
   "source": [
    "combine data + sample data exploration"
   ]
  },
  {
   "cell_type": "code",
   "execution_count": 6,
   "metadata": {},
   "outputs": [],
   "source": [
    "df=pd.read_csv(\"tweet_dataset.csv\")"
   ]
  },
  {
   "cell_type": "code",
   "execution_count": 7,
   "metadata": {},
   "outputs": [],
   "source": [
    "df=df.loc[:,['sentiment','selected_text']]"
   ]
  },
  {
   "cell_type": "code",
   "execution_count": 8,
   "metadata": {},
   "outputs": [],
   "source": [
    "df1=pd.read_csv('data_train.csv')"
   ]
  },
  {
   "cell_type": "code",
   "execution_count": 9,
   "metadata": {},
   "outputs": [],
   "source": [
    "df2=pd.read_csv('data_test.csv')"
   ]
  },
  {
   "cell_type": "code",
   "execution_count": 10,
   "metadata": {},
   "outputs": [],
   "source": [
    "df=pd.concat([df1, df2], ignore_index=True)"
   ]
  },
  {
   "cell_type": "code",
   "execution_count": 11,
   "metadata": {},
   "outputs": [],
   "source": [
    "df=df.rename(columns={'Emotion':'sentiment','Text':'selected_text'})"
   ]
  },
  {
   "cell_type": "code",
   "execution_count": 12,
   "metadata": {},
   "outputs": [
    {
     "data": {
      "text/plain": [
       "(11327, 2)"
      ]
     },
     "execution_count": 12,
     "metadata": {},
     "output_type": "execute_result"
    }
   ],
   "source": [
    "df.shape"
   ]
  },
  {
   "cell_type": "code",
   "execution_count": 13,
   "metadata": {},
   "outputs": [
    {
     "name": "stdout",
     "output_type": "stream",
     "text": [
      "joy        2326\n",
      "sadness    2317\n",
      "anger      2259\n",
      "neutral    2254\n",
      "fear       2171\n",
      "Name: sentiment, dtype: int64\n"
     ]
    }
   ],
   "source": [
    "print(df.sentiment.value_counts())"
   ]
  },
  {
   "cell_type": "code",
   "execution_count": 14,
   "metadata": {},
   "outputs": [],
   "source": [
    "fear = normalize(df.loc[df['sentiment']=='fear']['selected_text'])\n",
    "sadness = normalize(df.loc[df['sentiment']=='sadness']['selected_text'])\n",
    "neutral = normalize(df.loc[df['sentiment']=='neutral']['selected_text'])\n",
    "joy = normalize(df.loc[df['sentiment']=='joy']['selected_text'])\n",
    "\n",
    "\n",
    "anger = normalize(df.loc[df['sentiment']=='anger']['selected_text'])"
   ]
  },
  {
   "cell_type": "markdown",
   "metadata": {},
   "source": [
    "most common tokens for sadness categories"
   ]
  },
  {
   "cell_type": "code",
   "execution_count": 15,
   "metadata": {},
   "outputs": [],
   "source": [
    "def get_all_words(cleaned_tokens_list):\n",
    "    for tokens in cleaned_tokens_list:\n",
    "        for token in tokens:\n",
    "            yield token\n",
    "sadness_words = get_all_words(sadness)"
   ]
  },
  {
   "cell_type": "code",
   "execution_count": 16,
   "metadata": {
    "scrolled": true
   },
   "outputs": [
    {
     "name": "stdout",
     "output_type": "stream",
     "text": [
      "[('friend', 248), ('sad', 234), ('die', 219), ('sorry', 211), ('go', 198), ('felt', 173), ('’', 164), ('time', 154), ('know', 151), ('get', 148), ('year', 125), ('one', 122), ('leave', 122), ('day', 106), ('think', 104), ('away', 100), ('feel', 99), ('father', 99), ('mother', 98), ('make', 96), ('death', 95), ('say', 95), ('tell', 92), ('would', 91), ('come', 88), ('home', 87), ('close', 87), ('could', 86), ('really', 85), ('find', 83), ('see', 76), ('hear', 75), ('pass', 74), ('like', 72), ('look', 72), ('love', 70), ('last', 70), ('back', 67), ('oh', 67), ('lose', 66), ('much', 64), ('want', 64), ('family', 63), ('well', 63), ('boyfriend', 61), ('bad', 61), ('take', 60), ('first', 59), ('work', 59), ('grandmother', 59), ('good', 57), ('long', 56), ('ill', 56), ('miserable', 54), ('parent', 53), ('fail', 53), ('give', 53), ('relationship', 51), ('mine', 51), ('school', 50), ('sadness', 50), ('grief', 49), ('girlfriend', 49), ('old', 48), ('grandfather', 48), ('month', 46), ('try', 46), ('life', 45), ('way', 44), ('girl', 44), ('two', 43), ('thing', 43), ('car', 43), ('sister', 42), ('seem', 42), ('saw', 42), ('child', 42), ('night', 41), ('happen', 41), ('exam', 40), ('anguish', 40), ('another', 40), ('person', 40), ('brother', 40), ('week', 39), ('afraid', 39), ('lot', 38), ('become', 38), ('miss', 38), ('accident', 38), ('people', 37), ('live', 36), ('even', 36), ('face', 36), ('best', 36), ('feeling', 35), ('never', 35), ('job', 35), ('still', 35), ('us', 34)]\n"
     ]
    }
   ],
   "source": [
    "from nltk import FreqDist\n",
    "\n",
    "freq_dist_pos = FreqDist(sadness_words)\n",
    "print(freq_dist_pos.most_common(100))"
   ]
  },
  {
   "cell_type": "markdown",
   "metadata": {},
   "source": [
    "change the data type to fit the naive bayes model"
   ]
  },
  {
   "cell_type": "code",
   "execution_count": 17,
   "metadata": {},
   "outputs": [],
   "source": [
    "def get_tweets_for_model(cleaned_tokens_list):\n",
    "    \n",
    "    for tweet_tokens in cleaned_tokens_list:\n",
    "        yield dict([token, True] for token in tweet_tokens)\n",
    "\n"
   ]
  },
  {
   "cell_type": "code",
   "execution_count": 18,
   "metadata": {},
   "outputs": [],
   "source": [
    "fear_new = get_tweets_for_model(fear)\n",
    "sadness_new = get_tweets_for_model(sadness)\n",
    "neutral_new = get_tweets_for_model(neutral)\n",
    "joy_new = get_tweets_for_model(joy)\n",
    "\n",
    "\n",
    "anger_new = get_tweets_for_model(anger)"
   ]
  },
  {
   "cell_type": "code",
   "execution_count": 19,
   "metadata": {},
   "outputs": [],
   "source": [
    "import random\n",
    "fear_data = [(i, \"fear\")for i in fear_new]\n",
    "sadness_data = [(i, \"sadness\")for i in sadness_new]\n",
    "neutral_data = [(i, \"neutral\")for i in neutral_new]\n",
    "joy_data = [(i, \"joy\")for i in joy_new]\n",
    "\n",
    "\n",
    "anger_data = [(i, \"anger\")for i in anger_new]"
   ]
  },
  {
   "cell_type": "code",
   "execution_count": 20,
   "metadata": {
    "scrolled": true
   },
   "outputs": [
    {
     "data": {
      "text/plain": [
       "({'dislike': True,\n",
       "  'intimacy': True,\n",
       "  'show': True,\n",
       "  'towards': True,\n",
       "  'resentful': True,\n",
       "  'memory': True,\n",
       "  'share': True,\n",
       "  'part': True,\n",
       "  'felt': True,\n",
       "  'exclude': True},\n",
       " 'anger')"
      ]
     },
     "execution_count": 20,
     "metadata": {},
     "output_type": "execute_result"
    }
   ],
   "source": [
    "anger_data[0]"
   ]
  },
  {
   "cell_type": "markdown",
   "metadata": {},
   "source": [
    "train test split, fit naive bayes model"
   ]
  },
  {
   "cell_type": "code",
   "execution_count": 21,
   "metadata": {},
   "outputs": [
    {
     "data": {
      "text/plain": [
       "11327"
      ]
     },
     "execution_count": 21,
     "metadata": {},
     "output_type": "execute_result"
    }
   ],
   "source": [
    "dataset = fear_data+ sadness_data +neutral_data+joy_data+anger_data\n",
    "\n",
    "len(dataset)\n"
   ]
  },
  {
   "cell_type": "code",
   "execution_count": 22,
   "metadata": {},
   "outputs": [],
   "source": [
    "random.shuffle(dataset)\n",
    "\n",
    "train_data = dataset[:9000]\n",
    "test_data = dataset[9000:]"
   ]
  },
  {
   "cell_type": "code",
   "execution_count": 23,
   "metadata": {
    "scrolled": true
   },
   "outputs": [
    {
     "name": "stdout",
     "output_type": "stream",
     "text": [
      "Accuracy is: 0.5969058874086807\n",
      "Most Informative Features\n",
      "                     sad = True           sadnes : joy    =    125.3 : 1.0\n",
      "                   sorry = True           sadnes : joy    =    112.1 : 1.0\n",
      "                     die = True           sadnes : neutra =    111.3 : 1.0\n",
      "                    fear = True             fear : neutra =    103.2 : 1.0\n",
      "                    felt = True           sadnes : neutra =     86.4 : 1.0\n",
      "                   night = True             fear : neutra =     57.4 : 1.0\n",
      "                   happy = True              joy : anger  =     56.1 : 1.0\n",
      "                   angry = True            anger : joy    =     53.7 : 1.0\n",
      "                   anger = True            anger : fear   =     53.3 : 1.0\n",
      "                 delight = True              joy : sadnes =     49.7 : 1.0\n",
      "None\n"
     ]
    }
   ],
   "source": [
    "from nltk import classify\n",
    "from nltk import NaiveBayesClassifier\n",
    "classifier = NaiveBayesClassifier.train(train_data)\n",
    "\n",
    "print(\"Accuracy is:\", classify.accuracy(classifier, test_data))\n",
    "\n",
    "print(classifier.show_most_informative_features(10))"
   ]
  },
  {
   "cell_type": "code",
   "execution_count": 24,
   "metadata": {},
   "outputs": [
    {
     "name": "stdout",
     "output_type": "stream",
     "text": [
      "sadness\n"
     ]
    }
   ],
   "source": [
    "print(classifier.classify(dict([token, True] for token in original[10])))"
   ]
  },
  {
   "cell_type": "markdown",
   "metadata": {},
   "source": [
    "add sentiment column to original text df"
   ]
  },
  {
   "cell_type": "code",
   "execution_count": 25,
   "metadata": {},
   "outputs": [],
   "source": [
    "sentiment=list()\n",
    "for i in range (len(original)):\n",
    "    sentiment.append(classifier.classify(dict([token, True] for token in original[i])))"
   ]
  },
  {
   "cell_type": "code",
   "execution_count": 26,
   "metadata": {},
   "outputs": [
    {
     "data": {
      "text/html": [
       "<div>\n",
       "<style scoped>\n",
       "    .dataframe tbody tr th:only-of-type {\n",
       "        vertical-align: middle;\n",
       "    }\n",
       "\n",
       "    .dataframe tbody tr th {\n",
       "        vertical-align: top;\n",
       "    }\n",
       "\n",
       "    .dataframe thead th {\n",
       "        text-align: right;\n",
       "    }\n",
       "</style>\n",
       "<table border=\"1\" class=\"dataframe\">\n",
       "  <thead>\n",
       "    <tr style=\"text-align: right;\">\n",
       "      <th></th>\n",
       "      <th>GRYD_ETO_ID</th>\n",
       "      <th>S6b_Other_Activities</th>\n",
       "      <th>S11a_Comments</th>\n",
       "      <th>A1_Description</th>\n",
       "      <th>A2_Description</th>\n",
       "      <th>A3_Description</th>\n",
       "      <th>O1_other_group_name</th>\n",
       "      <th>Group_name_part1</th>\n",
       "      <th>PUSH_1</th>\n",
       "      <th>PULL_1</th>\n",
       "      <th>text_all</th>\n",
       "      <th>sentiment</th>\n",
       "    </tr>\n",
       "  </thead>\n",
       "  <tbody>\n",
       "    <tr>\n",
       "      <th>0</th>\n",
       "      <td>BVCB-0-144-1</td>\n",
       "      <td>Working out, CBT, boxing</td>\n",
       "      <td>School. Poor grades, car accident, not enough ...</td>\n",
       "      <td>School</td>\n",
       "      <td>NaN</td>\n",
       "      <td>School</td>\n",
       "      <td>Other group</td>\n",
       "      <td>Group</td>\n",
       "      <td>Somebody got out of jail that brought a lot of...</td>\n",
       "      <td>School. work. moving</td>\n",
       "      <td>BVCB-0-144-1,Working out, CBT, boxing,School. ...</td>\n",
       "      <td>NaN</td>\n",
       "    </tr>\n",
       "    <tr>\n",
       "      <th>1</th>\n",
       "      <td>BVCB-0-174-1</td>\n",
       "      <td>Basketball</td>\n",
       "      <td>Mother died</td>\n",
       "      <td>Basketball</td>\n",
       "      <td>NaN</td>\n",
       "      <td>NaN</td>\n",
       "      <td>No name</td>\n",
       "      <td>Money Gang</td>\n",
       "      <td>NaN</td>\n",
       "      <td>NaN</td>\n",
       "      <td>BVCB-0-174-1,Basketball,Mother died,Basketball...</td>\n",
       "      <td>NaN</td>\n",
       "    </tr>\n",
       "    <tr>\n",
       "      <th>2</th>\n",
       "      <td>Southeast 3-10-24-1</td>\n",
       "      <td>Extra activities with children</td>\n",
       "      <td>Favor cousin was murder and never found his ki...</td>\n",
       "      <td>Church, job and school</td>\n",
       "      <td>Church choir and praise team</td>\n",
       "      <td>NaN</td>\n",
       "      <td>Church group</td>\n",
       "      <td>No group</td>\n",
       "      <td>NaN</td>\n",
       "      <td>NaN</td>\n",
       "      <td>Southeast 3-10-24-1,Extra activities with chil...</td>\n",
       "      <td>NaN</td>\n",
       "    </tr>\n",
       "    <tr>\n",
       "      <th>3</th>\n",
       "      <td>Southeast 3-10-18-1</td>\n",
       "      <td>Actor/dance</td>\n",
       "      <td>Best friend brother was murder [sic] by 16 and...</td>\n",
       "      <td>Church, school and job</td>\n",
       "      <td>Church choir and praise team</td>\n",
       "      <td>NaN</td>\n",
       "      <td>No name</td>\n",
       "      <td>No name</td>\n",
       "      <td>NaN</td>\n",
       "      <td>NaN</td>\n",
       "      <td>Southeast 3-10-18-1,Actor/dance,Best friend br...</td>\n",
       "      <td>NaN</td>\n",
       "    </tr>\n",
       "    <tr>\n",
       "      <th>4</th>\n",
       "      <td>Southeast 3-10-17-1</td>\n",
       "      <td>Singing</td>\n",
       "      <td>Best fried brother was murder [sic] by 18yr boy</td>\n",
       "      <td>Church, job, and school</td>\n",
       "      <td>Church choir and praise team</td>\n",
       "      <td>NaN</td>\n",
       "      <td>No name</td>\n",
       "      <td>No name</td>\n",
       "      <td>NaN</td>\n",
       "      <td>NaN</td>\n",
       "      <td>Southeast 3-10-17-1,Singing,Best fried brother...</td>\n",
       "      <td>NaN</td>\n",
       "    </tr>\n",
       "  </tbody>\n",
       "</table>\n",
       "</div>"
      ],
      "text/plain": [
       "           GRYD_ETO_ID            S6b_Other_Activities  \\\n",
       "0         BVCB-0-144-1        Working out, CBT, boxing   \n",
       "1         BVCB-0-174-1                      Basketball   \n",
       "2  Southeast 3-10-24-1  Extra activities with children   \n",
       "3  Southeast 3-10-18-1                     Actor/dance   \n",
       "4  Southeast 3-10-17-1                         Singing   \n",
       "\n",
       "                                       S11a_Comments           A1_Description  \\\n",
       "0  School. Poor grades, car accident, not enough ...                   School   \n",
       "1                                        Mother died               Basketball   \n",
       "2  Favor cousin was murder and never found his ki...   Church, job and school   \n",
       "3  Best friend brother was murder [sic] by 16 and...   Church, school and job   \n",
       "4    Best fried brother was murder [sic] by 18yr boy  Church, job, and school   \n",
       "\n",
       "                 A2_Description A3_Description O1_other_group_name  \\\n",
       "0                           NaN         School         Other group   \n",
       "1                           NaN            NaN             No name   \n",
       "2  Church choir and praise team            NaN        Church group   \n",
       "3  Church choir and praise team            NaN             No name   \n",
       "4  Church choir and praise team            NaN             No name   \n",
       "\n",
       "  Group_name_part1                                             PUSH_1  \\\n",
       "0            Group  Somebody got out of jail that brought a lot of...   \n",
       "1       Money Gang                                                NaN   \n",
       "2         No group                                                NaN   \n",
       "3          No name                                                NaN   \n",
       "4          No name                                                NaN   \n",
       "\n",
       "                 PULL_1                                           text_all  \\\n",
       "0  School. work. moving  BVCB-0-144-1,Working out, CBT, boxing,School. ...   \n",
       "1                   NaN  BVCB-0-174-1,Basketball,Mother died,Basketball...   \n",
       "2                   NaN  Southeast 3-10-24-1,Extra activities with chil...   \n",
       "3                   NaN  Southeast 3-10-18-1,Actor/dance,Best friend br...   \n",
       "4                   NaN  Southeast 3-10-17-1,Singing,Best fried brother...   \n",
       "\n",
       "   sentiment  \n",
       "0        NaN  \n",
       "1        NaN  \n",
       "2        NaN  \n",
       "3        NaN  \n",
       "4        NaN  "
      ]
     },
     "execution_count": 26,
     "metadata": {},
     "output_type": "execute_result"
    }
   ],
   "source": [
    "text['sentiment']=np.nan\n",
    "text.head()"
   ]
  },
  {
   "cell_type": "code",
   "execution_count": 27,
   "metadata": {},
   "outputs": [],
   "source": [
    "temp=0\n",
    "for i in range (text.shape[0]):\n",
    "    if (type(text.loc[i,'S11a_Comments'])==str):\n",
    "        text.loc[i,'sentiment']=sentiment[temp]\n",
    "        temp=temp+1\n"
   ]
  },
  {
   "cell_type": "code",
   "execution_count": 28,
   "metadata": {
    "scrolled": true
   },
   "outputs": [
    {
     "data": {
      "text/html": [
       "<div>\n",
       "<style scoped>\n",
       "    .dataframe tbody tr th:only-of-type {\n",
       "        vertical-align: middle;\n",
       "    }\n",
       "\n",
       "    .dataframe tbody tr th {\n",
       "        vertical-align: top;\n",
       "    }\n",
       "\n",
       "    .dataframe thead th {\n",
       "        text-align: right;\n",
       "    }\n",
       "</style>\n",
       "<table border=\"1\" class=\"dataframe\">\n",
       "  <thead>\n",
       "    <tr style=\"text-align: right;\">\n",
       "      <th></th>\n",
       "      <th>S11a_Comments</th>\n",
       "      <th>sentiment</th>\n",
       "    </tr>\n",
       "  </thead>\n",
       "  <tbody>\n",
       "    <tr>\n",
       "      <th>0</th>\n",
       "      <td>School. Poor grades, car accident, not enough ...</td>\n",
       "      <td>anger</td>\n",
       "    </tr>\n",
       "    <tr>\n",
       "      <th>1</th>\n",
       "      <td>Mother died</td>\n",
       "      <td>sadness</td>\n",
       "    </tr>\n",
       "    <tr>\n",
       "      <th>2</th>\n",
       "      <td>Favor cousin was murder and never found his ki...</td>\n",
       "      <td>sadness</td>\n",
       "    </tr>\n",
       "    <tr>\n",
       "      <th>3</th>\n",
       "      <td>Best friend brother was murder [sic] by 16 and...</td>\n",
       "      <td>sadness</td>\n",
       "    </tr>\n",
       "    <tr>\n",
       "      <th>4</th>\n",
       "      <td>Best fried brother was murder [sic] by 18yr boy</td>\n",
       "      <td>anger</td>\n",
       "    </tr>\n",
       "    <tr>\n",
       "      <th>5</th>\n",
       "      <td>Best friend brother was murder [sic] by 22yr m...</td>\n",
       "      <td>anger</td>\n",
       "    </tr>\n",
       "    <tr>\n",
       "      <th>6</th>\n",
       "      <td>NaN</td>\n",
       "      <td>NaN</td>\n",
       "    </tr>\n",
       "    <tr>\n",
       "      <th>7</th>\n",
       "      <td>NaN</td>\n",
       "      <td>NaN</td>\n",
       "    </tr>\n",
       "    <tr>\n",
       "      <th>8</th>\n",
       "      <td>My mom going to jail</td>\n",
       "      <td>anger</td>\n",
       "    </tr>\n",
       "    <tr>\n",
       "      <th>9</th>\n",
       "      <td>Broke up with my long time boyfriend.</td>\n",
       "      <td>sadness</td>\n",
       "    </tr>\n",
       "  </tbody>\n",
       "</table>\n",
       "</div>"
      ],
      "text/plain": [
       "                                       S11a_Comments sentiment\n",
       "0  School. Poor grades, car accident, not enough ...     anger\n",
       "1                                        Mother died   sadness\n",
       "2  Favor cousin was murder and never found his ki...   sadness\n",
       "3  Best friend brother was murder [sic] by 16 and...   sadness\n",
       "4    Best fried brother was murder [sic] by 18yr boy     anger\n",
       "5  Best friend brother was murder [sic] by 22yr m...     anger\n",
       "6                                                NaN       NaN\n",
       "7                                                NaN       NaN\n",
       "8                               My mom going to jail     anger\n",
       "9              Broke up with my long time boyfriend.   sadness"
      ]
     },
     "execution_count": 28,
     "metadata": {},
     "output_type": "execute_result"
    }
   ],
   "source": [
    "text.loc[:,['S11a_Comments','sentiment']].head(10)"
   ]
  },
  {
   "cell_type": "code",
   "execution_count": 29,
   "metadata": {
    "scrolled": true
   },
   "outputs": [
    {
     "data": {
      "text/plain": [
       "<matplotlib.axes._subplots.AxesSubplot at 0x1988e638848>"
      ]
     },
     "execution_count": 29,
     "metadata": {},
     "output_type": "execute_result"
    },
    {
     "data": {
      "image/png": "[encoded data removed]",
      "text/plain": [
       "<Figure size 432x288 with 1 Axes>"
      ]
     },
     "metadata": {
      "needs_background": "light"
     },
     "output_type": "display_data"
    }
   ],
   "source": [
    "sns.countplot(text['sentiment'])"
   ]
  },
  {
   "cell_type": "code",
   "execution_count": 30,
   "metadata": {},
   "outputs": [
    {
     "data": {
      "text/plain": [
       "33                            Not able to see my daughter\n",
       "107     I don't have a job and I need money for baby s...\n",
       "135                                   Not being in school\n",
       "156     Family problem/everything is stressful I have ...\n",
       "181           Month ago, friend shot now parralyzed [sic]\n",
       "                              ...                        \n",
       "2665    Not able to enroll into a new school because o...\n",
       "2705                 family disputes, drama among friends\n",
       "2720                                      Friends passing\n",
       "2724    Family was evicted from their apartment didnt ...\n",
       "2734                                              Anxiety\n",
       "Name: S11a_Comments, Length: 72, dtype: object"
      ]
     },
     "execution_count": 30,
     "metadata": {},
     "output_type": "execute_result"
    }
   ],
   "source": [
    "text[text['sentiment']=='joy']['S11a_Comments']"
   ]
  },
  {
   "cell_type": "markdown",
   "metadata": {},
   "source": [
    "## correlation finding"
   ]
  },
  {
   "cell_type": "markdown",
   "metadata": {},
   "source": [
    "inner join two dataframe with key = id, value = sentiment and risk-score"
   ]
  },
  {
   "cell_type": "code",
   "execution_count": 31,
   "metadata": {},
   "outputs": [
    {
     "data": {
      "text/plain": [
       "(2765, 12)"
      ]
     },
     "execution_count": 31,
     "metadata": {},
     "output_type": "execute_result"
    }
   ],
   "source": [
    "text.shape"
   ]
  },
  {
   "cell_type": "code",
   "execution_count": 32,
   "metadata": {},
   "outputs": [],
   "source": [
    "df=pd.read_csv('zscore_with_id.csv')"
   ]
  },
  {
   "cell_type": "code",
   "execution_count": 33,
   "metadata": {},
   "outputs": [
    {
     "data": {
      "text/plain": [
       "(1319, 7)"
      ]
     },
     "execution_count": 33,
     "metadata": {},
     "output_type": "execute_result"
    }
   ],
   "source": [
    "df.shape"
   ]
  },
  {
   "cell_type": "code",
   "execution_count": 34,
   "metadata": {},
   "outputs": [
    {
     "data": {
      "text/html": [
       "<div>\n",
       "<style scoped>\n",
       "    .dataframe tbody tr th:only-of-type {\n",
       "        vertical-align: middle;\n",
       "    }\n",
       "\n",
       "    .dataframe tbody tr th {\n",
       "        vertical-align: top;\n",
       "    }\n",
       "\n",
       "    .dataframe thead th {\n",
       "        text-align: right;\n",
       "    }\n",
       "</style>\n",
       "<table border=\"1\" class=\"dataframe\">\n",
       "  <thead>\n",
       "    <tr style=\"text-align: right;\">\n",
       "      <th></th>\n",
       "      <th>gangid</th>\n",
       "      <th>sum</th>\n",
       "    </tr>\n",
       "  </thead>\n",
       "  <tbody>\n",
       "    <tr>\n",
       "      <th>0</th>\n",
       "      <td>BVCB-0-144-1</td>\n",
       "      <td>-7.812063</td>\n",
       "    </tr>\n",
       "    <tr>\n",
       "      <th>1</th>\n",
       "      <td>BVCB-0-174-1</td>\n",
       "      <td>2.120676</td>\n",
       "    </tr>\n",
       "    <tr>\n",
       "      <th>2</th>\n",
       "      <td>Southeast 3-10-18-1</td>\n",
       "      <td>-8.555216</td>\n",
       "    </tr>\n",
       "    <tr>\n",
       "      <th>3</th>\n",
       "      <td>Southeast 3-10-17-1</td>\n",
       "      <td>-8.555216</td>\n",
       "    </tr>\n",
       "    <tr>\n",
       "      <th>4</th>\n",
       "      <td>Southeast 3-10-19-1</td>\n",
       "      <td>-8.555216</td>\n",
       "    </tr>\n",
       "  </tbody>\n",
       "</table>\n",
       "</div>"
      ],
      "text/plain": [
       "                gangid       sum\n",
       "0         BVCB-0-144-1 -7.812063\n",
       "1         BVCB-0-174-1  2.120676\n",
       "2  Southeast 3-10-18-1 -8.555216\n",
       "3  Southeast 3-10-17-1 -8.555216\n",
       "4  Southeast 3-10-19-1 -8.555216"
      ]
     },
     "execution_count": 34,
     "metadata": {},
     "output_type": "execute_result"
    }
   ],
   "source": [
    "risk=df.loc[:,['gangid','sum']]\n",
    "risk.head()"
   ]
  },
  {
   "cell_type": "code",
   "execution_count": 35,
   "metadata": {},
   "outputs": [],
   "source": [
    "\n",
    "emotion=text.loc[:,['GRYD_ETO_ID','sentiment']]"
   ]
  },
  {
   "cell_type": "code",
   "execution_count": 36,
   "metadata": {},
   "outputs": [
    {
     "data": {
      "text/plain": [
       "(2765, 2)"
      ]
     },
     "execution_count": 36,
     "metadata": {},
     "output_type": "execute_result"
    }
   ],
   "source": [
    "emotion=emotion.rename(columns={'GRYD_ETO_ID':'gangid'})\n",
    "emotion.shape"
   ]
  },
  {
   "cell_type": "code",
   "execution_count": 37,
   "metadata": {},
   "outputs": [],
   "source": [
    "merged_inner = pd.merge(left=emotion, right=risk, left_on='gangid', right_on='gangid')"
   ]
  },
  {
   "cell_type": "code",
   "execution_count": 38,
   "metadata": {},
   "outputs": [
    {
     "data": {
      "text/plain": [
       "(2021, 3)"
      ]
     },
     "execution_count": 38,
     "metadata": {},
     "output_type": "execute_result"
    }
   ],
   "source": [
    "merged_inner.shape"
   ]
  },
  {
   "cell_type": "code",
   "execution_count": 39,
   "metadata": {},
   "outputs": [],
   "source": [
    "df=merged_inner.dropna()"
   ]
  },
  {
   "cell_type": "code",
   "execution_count": 40,
   "metadata": {},
   "outputs": [
    {
     "data": {
      "text/plain": [
       "(719, 3)"
      ]
     },
     "execution_count": 40,
     "metadata": {},
     "output_type": "execute_result"
    }
   ],
   "source": [
    "df.shape"
   ]
  },
  {
   "cell_type": "code",
   "execution_count": 41,
   "metadata": {},
   "outputs": [
    {
     "data": {
      "text/html": [
       "<div>\n",
       "<style scoped>\n",
       "    .dataframe tbody tr th:only-of-type {\n",
       "        vertical-align: middle;\n",
       "    }\n",
       "\n",
       "    .dataframe tbody tr th {\n",
       "        vertical-align: top;\n",
       "    }\n",
       "\n",
       "    .dataframe thead th {\n",
       "        text-align: right;\n",
       "    }\n",
       "</style>\n",
       "<table border=\"1\" class=\"dataframe\">\n",
       "  <thead>\n",
       "    <tr style=\"text-align: right;\">\n",
       "      <th></th>\n",
       "      <th>gangid</th>\n",
       "      <th>sentiment</th>\n",
       "      <th>sum</th>\n",
       "    </tr>\n",
       "  </thead>\n",
       "  <tbody>\n",
       "    <tr>\n",
       "      <th>0</th>\n",
       "      <td>BVCB-0-144-1</td>\n",
       "      <td>anger</td>\n",
       "      <td>-7.812063</td>\n",
       "    </tr>\n",
       "    <tr>\n",
       "      <th>1</th>\n",
       "      <td>BVCB-0-174-1</td>\n",
       "      <td>sadness</td>\n",
       "      <td>2.120676</td>\n",
       "    </tr>\n",
       "    <tr>\n",
       "      <th>2</th>\n",
       "      <td>BVCB-0-174-1</td>\n",
       "      <td>sadness</td>\n",
       "      <td>2.965543</td>\n",
       "    </tr>\n",
       "    <tr>\n",
       "      <th>5</th>\n",
       "      <td>Southeast 3-10-18-1</td>\n",
       "      <td>sadness</td>\n",
       "      <td>-8.555216</td>\n",
       "    </tr>\n",
       "    <tr>\n",
       "      <th>6</th>\n",
       "      <td>Southeast 3-10-17-1</td>\n",
       "      <td>anger</td>\n",
       "      <td>-8.555216</td>\n",
       "    </tr>\n",
       "  </tbody>\n",
       "</table>\n",
       "</div>"
      ],
      "text/plain": [
       "                gangid sentiment       sum\n",
       "0         BVCB-0-144-1     anger -7.812063\n",
       "1         BVCB-0-174-1   sadness  2.120676\n",
       "2         BVCB-0-174-1   sadness  2.965543\n",
       "5  Southeast 3-10-18-1   sadness -8.555216\n",
       "6  Southeast 3-10-17-1     anger -8.555216"
      ]
     },
     "execution_count": 41,
     "metadata": {},
     "output_type": "execute_result"
    }
   ],
   "source": [
    "df.head()\n",
    "#df is the final one"
   ]
  },
  {
   "cell_type": "code",
   "execution_count": 42,
   "metadata": {},
   "outputs": [
    {
     "data": {
      "text/plain": [
       "Text(0, 0.5, 'z_score')"
      ]
     },
     "execution_count": 42,
     "metadata": {},
     "output_type": "execute_result"
    },
    {
     "data": {
      "image/png": "[encoded data removed]",
      "text/plain": [
       "<Figure size 432x288 with 1 Axes>"
      ]
     },
     "metadata": {
      "needs_background": "light"
     },
     "output_type": "display_data"
    }
   ],
   "source": [
    "sns.boxplot(x='sentiment',y='sum',data=df,palette='rainbow')\n",
    "plt.ylabel('z_score')"
   ]
  },
  {
   "cell_type": "code",
   "execution_count": 43,
   "metadata": {},
   "outputs": [
    {
     "data": {
      "text/plain": [
       "Text(0, 0.5, 'z_score')"
      ]
     },
     "execution_count": 43,
     "metadata": {},
     "output_type": "execute_result"
    },
    {
     "data": {
      "image/png": "[encoded data removed]",
      "text/plain": [
       "<Figure size 432x288 with 1 Axes>"
      ]
     },
     "metadata": {
      "needs_background": "light"
     },
     "output_type": "display_data"
    }
   ],
   "source": [
    "sns.swarmplot(x='sentiment',y='sum',data=df,palette='Set2')\n",
    "plt.ylabel('z_score')"
   ]
  },
  {
   "cell_type": "markdown",
   "metadata": {},
   "source": [
    "do the same with activity and risk-score"
   ]
  },
  {
   "cell_type": "code",
   "execution_count": 44,
   "metadata": {},
   "outputs": [],
   "source": [
    "activity=pd.read_csv('SET_S6b_Activities_Categorized.csv')"
   ]
  },
  {
   "cell_type": "code",
   "execution_count": 45,
   "metadata": {},
   "outputs": [],
   "source": [
    "activity=activity.drop(columns = \"Unnamed: 0\")"
   ]
  },
  {
   "cell_type": "code",
   "execution_count": 46,
   "metadata": {},
   "outputs": [],
   "source": [
    "activity=activity.rename(columns={'GRYD_ETO_ID':'gangid'})\n",
    "activity=activity.dropna()"
   ]
  },
  {
   "cell_type": "code",
   "execution_count": 47,
   "metadata": {},
   "outputs": [
    {
     "data": {
      "text/html": [
       "<div>\n",
       "<style scoped>\n",
       "    .dataframe tbody tr th:only-of-type {\n",
       "        vertical-align: middle;\n",
       "    }\n",
       "\n",
       "    .dataframe tbody tr th {\n",
       "        vertical-align: top;\n",
       "    }\n",
       "\n",
       "    .dataframe thead th {\n",
       "        text-align: right;\n",
       "    }\n",
       "</style>\n",
       "<table border=\"1\" class=\"dataframe\">\n",
       "  <thead>\n",
       "    <tr style=\"text-align: right;\">\n",
       "      <th></th>\n",
       "      <th>gangid</th>\n",
       "      <th>categorized_activity</th>\n",
       "    </tr>\n",
       "  </thead>\n",
       "  <tbody>\n",
       "    <tr>\n",
       "      <th>0</th>\n",
       "      <td>BVCB-0-144-1</td>\n",
       "      <td>sports</td>\n",
       "    </tr>\n",
       "    <tr>\n",
       "      <th>1</th>\n",
       "      <td>BVCB-0-174-1</td>\n",
       "      <td>sports</td>\n",
       "    </tr>\n",
       "    <tr>\n",
       "      <th>2</th>\n",
       "      <td>Southeast 3-10-24-1</td>\n",
       "      <td>volunteer</td>\n",
       "    </tr>\n",
       "    <tr>\n",
       "      <th>3</th>\n",
       "      <td>Southeast 3-10-18-1</td>\n",
       "      <td>art</td>\n",
       "    </tr>\n",
       "    <tr>\n",
       "      <th>4</th>\n",
       "      <td>Southeast 3-10-17-1</td>\n",
       "      <td>art</td>\n",
       "    </tr>\n",
       "  </tbody>\n",
       "</table>\n",
       "</div>"
      ],
      "text/plain": [
       "                gangid categorized_activity\n",
       "0         BVCB-0-144-1               sports\n",
       "1         BVCB-0-174-1               sports\n",
       "2  Southeast 3-10-24-1            volunteer\n",
       "3  Southeast 3-10-18-1                  art\n",
       "4  Southeast 3-10-17-1                  art"
      ]
     },
     "execution_count": 47,
     "metadata": {},
     "output_type": "execute_result"
    }
   ],
   "source": [
    "activity_new = pd.DataFrame(activity.Categorized_Activities.str.split(', ').tolist(), index=activity.gangid).stack()\n",
    "activity_new = activity_new.reset_index([0, 'gangid'])\n",
    "activity_new.columns = ['gangid', 'categorized_activity']\n",
    "activity_new.head()"
   ]
  },
  {
   "cell_type": "code",
   "execution_count": 48,
   "metadata": {},
   "outputs": [],
   "source": [
    "merged_new = pd.merge(left=activity_new, right=risk, left_on='gangid', right_on='gangid')"
   ]
  },
  {
   "cell_type": "code",
   "execution_count": null,
   "metadata": {},
   "outputs": [],
   "source": []
  },
  {
   "cell_type": "code",
   "execution_count": 49,
   "metadata": {},
   "outputs": [
    {
     "data": {
      "text/plain": [
       "Text(0, 0.5, 'z_score')"
      ]
     },
     "execution_count": 49,
     "metadata": {},
     "output_type": "execute_result"
    },
    {
     "data": {
      "image/png": "[encoded data removed]",
      "text/plain": [
       "<Figure size 432x288 with 1 Axes>"
      ]
     },
     "metadata": {
      "needs_background": "light"
     },
     "output_type": "display_data"
    }
   ],
   "source": [
    "sns.boxplot(x='categorized_activity',y='sum',data=merged_new,palette='rainbow')\n",
    "plt.ylabel('z_score')"
   ]
  },
  {
   "cell_type": "markdown",
   "metadata": {},
   "source": [
    "!!!!!!!!!!!!!!! too many actvities, re-grouping"
   ]
  },
  {
   "cell_type": "code",
   "execution_count": 50,
   "metadata": {},
   "outputs": [
    {
     "data": {
      "text/plain": [
       "FreqDist({'sports': 206, 'job': 143, 'selfimprovement': 104, 'program': 102, 'study': 83, 'church': 75, 'volunteer': 69, 'community': 52, 'art': 48, 'hygiene': 39, ...})"
      ]
     },
     "execution_count": 50,
     "metadata": {},
     "output_type": "execute_result"
    }
   ],
   "source": [
    "contents=merged_new['categorized_activity'].dropna().values\n",
    "freq = nltk.FreqDist(contents)\n",
    "freq"
   ]
  },
  {
   "cell_type": "code",
   "execution_count": 51,
   "metadata": {},
   "outputs": [
    {
     "data": {
      "text/plain": [
       "{'sports': 206,\n",
       " 'job': 143,\n",
       " 'selfimprovement': 104,\n",
       " 'program': 102,\n",
       " 'study': 83,\n",
       " 'church': 75,\n",
       " 'volunteer': 69,\n",
       " 'community': 52,\n",
       " 'art': 48,\n",
       " 'hygiene': 39,\n",
       " 'therapy': 37,\n",
       " 'other': 37,\n",
       " 'family': 26,\n",
       " 'entertainment': 20,\n",
       " 'school': 8,\n",
       " 'tutoring': 3,\n",
       " 'workout': 3,\n",
       " 'gryd': 2,\n",
       " 'voluteer': 2,\n",
       " 'Sports': 2,\n",
       " 'work': 1,\n",
       " 'class': 1,\n",
       " 'sefimprovement': 1,\n",
       " 'femily': 1,\n",
       " 'spports': 1}"
      ]
     },
     "execution_count": 51,
     "metadata": {},
     "output_type": "execute_result"
    }
   ],
   "source": [
    "from collections import Counter\n",
    "plot_dict = dict(Counter(freq).most_common(50))\n",
    "plot_dict"
   ]
  },
  {
   "cell_type": "code",
   "execution_count": 52,
   "metadata": {},
   "outputs": [],
   "source": [
    "merged_new.loc[merged_new['categorized_activity'] == 'work', 'categorized_activity'] = 'job'\n",
    "merged_new.loc[merged_new['categorized_activity'] == 'Sports', 'categorized_activity'] = 'sports'\n",
    "merged_new.loc[merged_new['categorized_activity'] == 'school', 'categorized_activity'] = 'study'\n",
    "merged_new.loc[merged_new['categorized_activity'] == 'voluteer', 'categorized_activity'] = 'volunteer'\n",
    "merged_new.loc[merged_new['categorized_activity'] == 'workout', 'categorized_activity'] = 'sports'\n",
    "merged_new.loc[merged_new['categorized_activity'] == 'tutoring', 'categorized_activity'] = 'other'\n",
    "merged_new.loc[merged_new['categorized_activity'] == 'community', 'categorized_activity'] = 'volunteer'\n",
    "merged_new.loc[merged_new['categorized_activity'] == 'sefimprovement', 'categorized_activity'] = 'selfimprovement'\n",
    "#merged_new is the final one"
   ]
  },
  {
   "cell_type": "code",
   "execution_count": 53,
   "metadata": {},
   "outputs": [
    {
     "data": {
      "text/plain": [
       "(array([ 0,  1,  2,  3,  4,  5,  6,  7,  8,  9, 10, 11, 12, 13, 14, 15, 16]),\n",
       " <a list of 17 Text xticklabel objects>)"
      ]
     },
     "execution_count": 53,
     "metadata": {},
     "output_type": "execute_result"
    },
    {
     "data": {
      "image/png": "[encoded data removed]",
      "text/plain": [
       "<Figure size 432x288 with 1 Axes>"
      ]
     },
     "metadata": {
      "needs_background": "light"
     },
     "output_type": "display_data"
    }
   ],
   "source": [
    "sns.boxplot(x='categorized_activity',y='sum',data=merged_new,palette='rainbow')\n",
    "plt.ylabel('z_score')\n",
    "plt.xticks(rotation=90)"
   ]
  },
  {
   "cell_type": "code",
   "execution_count": 54,
   "metadata": {},
   "outputs": [
    {
     "data": {
      "text/plain": [
       "{'sports': 211,\n",
       " 'job': 144,\n",
       " 'volunteer': 123,\n",
       " 'selfimprovement': 105,\n",
       " 'program': 102,\n",
       " 'study': 91,\n",
       " 'church': 75,\n",
       " 'art': 48,\n",
       " 'other': 40,\n",
       " 'hygiene': 39,\n",
       " 'therapy': 37,\n",
       " 'family': 26,\n",
       " 'entertainment': 20,\n",
       " 'gryd': 2,\n",
       " 'class': 1,\n",
       " 'femily': 1,\n",
       " 'spports': 1}"
      ]
     },
     "execution_count": 54,
     "metadata": {},
     "output_type": "execute_result"
    }
   ],
   "source": [
    "contents=merged_new['categorized_activity'].dropna().values\n",
    "freq = nltk.FreqDist(contents)\n",
    "from collections import Counter\n",
    "plot_dict = dict(Counter(freq).most_common(50))\n",
    "plot_dict"
   ]
  },
  {
   "cell_type": "code",
   "execution_count": 55,
   "metadata": {},
   "outputs": [
    {
     "data": {
      "image/png": "[encoded data removed]",
      "text/plain": [
       "<Figure size 432x288 with 1 Axes>"
      ]
     },
     "metadata": {},
     "output_type": "display_data"
    }
   ],
   "source": [
    "labels = plot_dict.keys()\n",
    "sizes = plot_dict.values()\n",
    "\n",
    "\n",
    "fig1, ax1 = plt.subplots()\n",
    "ax1.pie(sizes, labels=labels, autopct='%1.1f%%',\n",
    "        shadow=True, startangle=90)\n",
    "ax1.axis('equal')  # Equal aspect ratio ensures that pie is drawn as a circle.\n",
    "\n",
    "plt.show()"
   ]
  },
  {
   "cell_type": "markdown",
   "metadata": {},
   "source": [
    "do the same with gender and age "
   ]
  },
  {
   "cell_type": "code",
   "execution_count": 56,
   "metadata": {},
   "outputs": [],
   "source": [
    "ag=pd.read_csv('SET_processed_latest_version.csv')"
   ]
  },
  {
   "cell_type": "code",
   "execution_count": 57,
   "metadata": {},
   "outputs": [],
   "source": [
    "ag=ag.loc[:,['GRYD_ETO_ID','AGE_1_FB','SEX_1']]\n",
    "ag=ag.rename(columns={'GRYD_ETO_ID':'gangid','AGE_1_FB':'age','SEX_1':'sex'})"
   ]
  },
  {
   "cell_type": "code",
   "execution_count": 58,
   "metadata": {},
   "outputs": [],
   "source": [
    "ag = pd.merge(left=ag, right=risk, left_on='gangid', right_on='gangid')"
   ]
  },
  {
   "cell_type": "code",
   "execution_count": 59,
   "metadata": {},
   "outputs": [
    {
     "data": {
      "text/html": [
       "<div>\n",
       "<style scoped>\n",
       "    .dataframe tbody tr th:only-of-type {\n",
       "        vertical-align: middle;\n",
       "    }\n",
       "\n",
       "    .dataframe tbody tr th {\n",
       "        vertical-align: top;\n",
       "    }\n",
       "\n",
       "    .dataframe thead th {\n",
       "        text-align: right;\n",
       "    }\n",
       "</style>\n",
       "<table border=\"1\" class=\"dataframe\">\n",
       "  <thead>\n",
       "    <tr style=\"text-align: right;\">\n",
       "      <th></th>\n",
       "      <th>gangid</th>\n",
       "      <th>age</th>\n",
       "      <th>sex</th>\n",
       "      <th>sum</th>\n",
       "    </tr>\n",
       "  </thead>\n",
       "  <tbody>\n",
       "    <tr>\n",
       "      <th>0</th>\n",
       "      <td>BVCB-0-144-1</td>\n",
       "      <td>20.0</td>\n",
       "      <td>2</td>\n",
       "      <td>-7.812063</td>\n",
       "    </tr>\n",
       "    <tr>\n",
       "      <th>1</th>\n",
       "      <td>BVCB-0-174-1</td>\n",
       "      <td>21.0</td>\n",
       "      <td>1</td>\n",
       "      <td>2.120676</td>\n",
       "    </tr>\n",
       "    <tr>\n",
       "      <th>2</th>\n",
       "      <td>BVCB-0-174-1</td>\n",
       "      <td>21.0</td>\n",
       "      <td>1</td>\n",
       "      <td>2.965543</td>\n",
       "    </tr>\n",
       "    <tr>\n",
       "      <th>3</th>\n",
       "      <td>BVCB-0-174-1</td>\n",
       "      <td>20.0</td>\n",
       "      <td>1</td>\n",
       "      <td>2.120676</td>\n",
       "    </tr>\n",
       "    <tr>\n",
       "      <th>4</th>\n",
       "      <td>BVCB-0-174-1</td>\n",
       "      <td>20.0</td>\n",
       "      <td>1</td>\n",
       "      <td>2.965543</td>\n",
       "    </tr>\n",
       "  </tbody>\n",
       "</table>\n",
       "</div>"
      ],
      "text/plain": [
       "         gangid   age  sex       sum\n",
       "0  BVCB-0-144-1  20.0    2 -7.812063\n",
       "1  BVCB-0-174-1  21.0    1  2.120676\n",
       "2  BVCB-0-174-1  21.0    1  2.965543\n",
       "3  BVCB-0-174-1  20.0    1  2.120676\n",
       "4  BVCB-0-174-1  20.0    1  2.965543"
      ]
     },
     "execution_count": 59,
     "metadata": {},
     "output_type": "execute_result"
    }
   ],
   "source": [
    "ag.head()"
   ]
  },
  {
   "cell_type": "code",
   "execution_count": 60,
   "metadata": {},
   "outputs": [
    {
     "data": {
      "text/plain": [
       "Text(0, 0.5, 'z_score')"
      ]
     },
     "execution_count": 60,
     "metadata": {},
     "output_type": "execute_result"
    },
    {
     "data": {
      "image/png": "[encoded data removed]",
      "text/plain": [
       "<Figure size 432x288 with 1 Axes>"
      ]
     },
     "metadata": {
      "needs_background": "light"
     },
     "output_type": "display_data"
    }
   ],
   "source": [
    "sns.boxplot(x='sex',y='sum',data=ag,palette='rainbow')\n",
    "plt.ylabel('z_score')"
   ]
  },
  {
   "cell_type": "code",
   "execution_count": 61,
   "metadata": {},
   "outputs": [],
   "source": [
    "for i in range (13,18):\n",
    "    ag.loc[ag['age'] == i, 'age'] = '13-17'\n",
    "    \n",
    "for i in range (18,25):\n",
    "    ag.loc[ag['age'] == i, 'age'] = '19-24'\n",
    "    \n",
    "for i in range (25,31):\n",
    "    ag.loc[ag['age'] == i, 'age'] = '25-30'\n",
    "    \n",
    "for i in range (31,38):\n",
    "    ag.loc[ag['age'] == i, 'age'] = '31-37'    "
   ]
  },
  {
   "cell_type": "code",
   "execution_count": 62,
   "metadata": {},
   "outputs": [
    {
     "data": {
      "text/plain": [
       "(array([0, 1, 2, 3, 4, 5, 6]), <a list of 7 Text xticklabel objects>)"
      ]
     },
     "execution_count": 62,
     "metadata": {},
     "output_type": "execute_result"
    },
    {
     "data": {
      "image/png": "[encoded data removed]",
      "text/plain": [
       "<Figure size 432x288 with 1 Axes>"
      ]
     },
     "metadata": {
      "needs_background": "light"
     },
     "output_type": "display_data"
    }
   ],
   "source": [
    "sns.boxplot(x='age',y='sum',data=ag,palette='rainbow')\n",
    "plt.ylabel('z_score')\n",
    "plt.xticks(rotation=90)"
   ]
  },
  {
   "cell_type": "code",
   "execution_count": 63,
   "metadata": {},
   "outputs": [
    {
     "data": {
      "text/html": [
       "<div>\n",
       "<style scoped>\n",
       "    .dataframe tbody tr th:only-of-type {\n",
       "        vertical-align: middle;\n",
       "    }\n",
       "\n",
       "    .dataframe tbody tr th {\n",
       "        vertical-align: top;\n",
       "    }\n",
       "\n",
       "    .dataframe thead th {\n",
       "        text-align: right;\n",
       "    }\n",
       "</style>\n",
       "<table border=\"1\" class=\"dataframe\">\n",
       "  <thead>\n",
       "    <tr style=\"text-align: right;\">\n",
       "      <th></th>\n",
       "      <th>gangid</th>\n",
       "      <th>age</th>\n",
       "      <th>sex</th>\n",
       "      <th>sum</th>\n",
       "    </tr>\n",
       "  </thead>\n",
       "  <tbody>\n",
       "    <tr>\n",
       "      <th>0</th>\n",
       "      <td>BVCB-0-144-1</td>\n",
       "      <td>19-24</td>\n",
       "      <td>2</td>\n",
       "      <td>-7.812063</td>\n",
       "    </tr>\n",
       "    <tr>\n",
       "      <th>1</th>\n",
       "      <td>BVCB-0-174-1</td>\n",
       "      <td>19-24</td>\n",
       "      <td>1</td>\n",
       "      <td>2.120676</td>\n",
       "    </tr>\n",
       "    <tr>\n",
       "      <th>2</th>\n",
       "      <td>BVCB-0-174-1</td>\n",
       "      <td>19-24</td>\n",
       "      <td>1</td>\n",
       "      <td>2.965543</td>\n",
       "    </tr>\n",
       "    <tr>\n",
       "      <th>3</th>\n",
       "      <td>BVCB-0-174-1</td>\n",
       "      <td>19-24</td>\n",
       "      <td>1</td>\n",
       "      <td>2.120676</td>\n",
       "    </tr>\n",
       "    <tr>\n",
       "      <th>4</th>\n",
       "      <td>BVCB-0-174-1</td>\n",
       "      <td>19-24</td>\n",
       "      <td>1</td>\n",
       "      <td>2.965543</td>\n",
       "    </tr>\n",
       "    <tr>\n",
       "      <th>...</th>\n",
       "      <td>...</td>\n",
       "      <td>...</td>\n",
       "      <td>...</td>\n",
       "      <td>...</td>\n",
       "    </tr>\n",
       "    <tr>\n",
       "      <th>2016</th>\n",
       "      <td>Northeast-25-68-2</td>\n",
       "      <td>19-24</td>\n",
       "      <td>1</td>\n",
       "      <td>NaN</td>\n",
       "    </tr>\n",
       "    <tr>\n",
       "      <th>2017</th>\n",
       "      <td>Southwest 2-23-279-1</td>\n",
       "      <td>19-24</td>\n",
       "      <td>2</td>\n",
       "      <td>NaN</td>\n",
       "    </tr>\n",
       "    <tr>\n",
       "      <th>2018</th>\n",
       "      <td>Southeast 1-24-85-1</td>\n",
       "      <td>19-24</td>\n",
       "      <td>1</td>\n",
       "      <td>NaN</td>\n",
       "    </tr>\n",
       "    <tr>\n",
       "      <th>2019</th>\n",
       "      <td>Northeast-25-64-1</td>\n",
       "      <td>13-17</td>\n",
       "      <td>1</td>\n",
       "      <td>NaN</td>\n",
       "    </tr>\n",
       "    <tr>\n",
       "      <th>2020</th>\n",
       "      <td>Mission-14-413-1</td>\n",
       "      <td>13-17</td>\n",
       "      <td>1</td>\n",
       "      <td>NaN</td>\n",
       "    </tr>\n",
       "  </tbody>\n",
       "</table>\n",
       "<p>2021 rows × 4 columns</p>\n",
       "</div>"
      ],
      "text/plain": [
       "                    gangid    age  sex       sum\n",
       "0             BVCB-0-144-1  19-24    2 -7.812063\n",
       "1             BVCB-0-174-1  19-24    1  2.120676\n",
       "2             BVCB-0-174-1  19-24    1  2.965543\n",
       "3             BVCB-0-174-1  19-24    1  2.120676\n",
       "4             BVCB-0-174-1  19-24    1  2.965543\n",
       "...                    ...    ...  ...       ...\n",
       "2016     Northeast-25-68-2  19-24    1       NaN\n",
       "2017  Southwest 2-23-279-1  19-24    2       NaN\n",
       "2018   Southeast 1-24-85-1  19-24    1       NaN\n",
       "2019     Northeast-25-64-1  13-17    1       NaN\n",
       "2020      Mission-14-413-1  13-17    1       NaN\n",
       "\n",
       "[2021 rows x 4 columns]"
      ]
     },
     "execution_count": 63,
     "metadata": {},
     "output_type": "execute_result"
    }
   ],
   "source": [
    "ag"
   ]
  },
  {
   "cell_type": "code",
   "execution_count": 64,
   "metadata": {},
   "outputs": [
    {
     "data": {
      "text/html": [
       "<div>\n",
       "<style scoped>\n",
       "    .dataframe tbody tr th:only-of-type {\n",
       "        vertical-align: middle;\n",
       "    }\n",
       "\n",
       "    .dataframe tbody tr th {\n",
       "        vertical-align: top;\n",
       "    }\n",
       "\n",
       "    .dataframe thead th {\n",
       "        text-align: right;\n",
       "    }\n",
       "</style>\n",
       "<table border=\"1\" class=\"dataframe\">\n",
       "  <thead>\n",
       "    <tr style=\"text-align: right;\">\n",
       "      <th></th>\n",
       "      <th>gangid</th>\n",
       "      <th>sentiment</th>\n",
       "    </tr>\n",
       "  </thead>\n",
       "  <tbody>\n",
       "    <tr>\n",
       "      <th>0</th>\n",
       "      <td>BVCB-0-144-1</td>\n",
       "      <td>anger</td>\n",
       "    </tr>\n",
       "    <tr>\n",
       "      <th>1</th>\n",
       "      <td>BVCB-0-174-1</td>\n",
       "      <td>sadness</td>\n",
       "    </tr>\n",
       "    <tr>\n",
       "      <th>2</th>\n",
       "      <td>Southeast 3-10-24-1</td>\n",
       "      <td>sadness</td>\n",
       "    </tr>\n",
       "    <tr>\n",
       "      <th>3</th>\n",
       "      <td>Southeast 3-10-18-1</td>\n",
       "      <td>sadness</td>\n",
       "    </tr>\n",
       "    <tr>\n",
       "      <th>4</th>\n",
       "      <td>Southeast 3-10-17-1</td>\n",
       "      <td>anger</td>\n",
       "    </tr>\n",
       "    <tr>\n",
       "      <th>...</th>\n",
       "      <td>...</td>\n",
       "      <td>...</td>\n",
       "    </tr>\n",
       "    <tr>\n",
       "      <th>2760</th>\n",
       "      <td>Southwest 2-23-280-1</td>\n",
       "      <td>NaN</td>\n",
       "    </tr>\n",
       "    <tr>\n",
       "      <th>2761</th>\n",
       "      <td>Northeast-25-64-1</td>\n",
       "      <td>NaN</td>\n",
       "    </tr>\n",
       "    <tr>\n",
       "      <th>2762</th>\n",
       "      <td>Mission-14-413-1</td>\n",
       "      <td>NaN</td>\n",
       "    </tr>\n",
       "    <tr>\n",
       "      <th>2763</th>\n",
       "      <td>77th 3-20-376-1</td>\n",
       "      <td>NaN</td>\n",
       "    </tr>\n",
       "    <tr>\n",
       "      <th>2764</th>\n",
       "      <td>Pacific-18-110-2</td>\n",
       "      <td>fear</td>\n",
       "    </tr>\n",
       "  </tbody>\n",
       "</table>\n",
       "<p>2765 rows × 2 columns</p>\n",
       "</div>"
      ],
      "text/plain": [
       "                    gangid sentiment\n",
       "0             BVCB-0-144-1     anger\n",
       "1             BVCB-0-174-1   sadness\n",
       "2      Southeast 3-10-24-1   sadness\n",
       "3      Southeast 3-10-18-1   sadness\n",
       "4      Southeast 3-10-17-1     anger\n",
       "...                    ...       ...\n",
       "2760  Southwest 2-23-280-1       NaN\n",
       "2761     Northeast-25-64-1       NaN\n",
       "2762      Mission-14-413-1       NaN\n",
       "2763       77th 3-20-376-1       NaN\n",
       "2764      Pacific-18-110-2      fear\n",
       "\n",
       "[2765 rows x 2 columns]"
      ]
     },
     "execution_count": 64,
     "metadata": {},
     "output_type": "execute_result"
    }
   ],
   "source": [
    "emotion"
   ]
  }
 ],
 "metadata": {
  "kernelspec": {
   "display_name": "Python 3",
   "language": "python",
   "name": "python3"
  },
  "language_info": {
   "codemirror_mode": {
    "name": "ipython",
    "version": 3
   },
   "file_extension": ".py",
   "mimetype": "text/x-python",
   "name": "python",
   "nbconvert_exporter": "python",
   "pygments_lexer": "ipython3",
   "version": "3.7.6"
  }
 },
 "nbformat": 4,
 "nbformat_minor": 2
}
