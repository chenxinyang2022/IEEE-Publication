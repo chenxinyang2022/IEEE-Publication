{
 "cells": [
  {
   "cell_type": "code",
   "execution_count": null,
   "metadata": {},
   "outputs": [],
   "source": [
    "import re\n",
    "import numpy as np\n",
    "import pandas as pd\n",
    "import nltk\n",
    "import matplotlib.pyplot as plt\n",
    "from nltk.tokenize import word_tokenize\n",
    "from string import punctuation\n",
    "from nltk.corpus import stopwords\n",
    "from string import punctuation\n",
    "from nltk.stem.wordnet import WordNetLemmatizer"
   ]
  },
  {
   "cell_type": "code",
   "execution_count": null,
   "metadata": {},
   "outputs": [],
   "source": [
    "from nltk.corpus import wordnet\n",
    "\n",
    "def get_wordnet_pos(word):\n",
    "    \"\"\"Map POS tag to first character lemmatize() accepts\"\"\"\n",
    "    tag = nltk.pos_tag([word])[0][1][0].upper()\n",
    "    tag_dict = {\"J\": wordnet.ADJ,\n",
    "                \"N\": wordnet.NOUN,\n",
    "                \"V\": wordnet.VERB,\n",
    "                \"R\": wordnet.ADV}\n",
    "\n",
    "    return tag_dict.get(tag, wordnet.NOUN)"
   ]
  },
  {
   "cell_type": "code",
   "execution_count": null,
   "metadata": {},
   "outputs": [],
   "source": [
    "def normalize(col):\n",
    "    contents = col.dropna().values\n",
    "    for i in range (contents.shape[0]):\n",
    "        contents[i]=contents[i].replace(\",\", \" \")\n",
    "    all_contents = [''.join([c for c in i if c not in punctuation]) for i in contents]\n",
    "    all_contents = [i.lower() for i in all_contents]\n",
    "        \n",
    "    lem_texts = []\n",
    "    lemmatizer = WordNetLemmatizer()\n",
    "    for i in all_contents:\n",
    "        lem_texts.append([lemmatizer.lemmatize(w, get_wordnet_pos(w)) for w in nltk.word_tokenize(i)])\n",
    "    new_texts = [' '.join([c for c in i]) for i in lem_texts]\n",
    "    \n",
    "    clean_tokens = [[] for _ in range(len(new_texts))]\n",
    "    sw = stopwords.words('english')\n",
    "    other_trash = ['im','a','u','2','lol','wish','oh','gonna','ugh','get','ok','thats']\n",
    "    trash_tokens = sw + other_trash\n",
    "    for i in range(len(new_texts)):\n",
    "        for w in word_tokenize(new_texts[i]):\n",
    "            if w not in trash_tokens:\n",
    "                clean_tokens[i].append(w)\n",
    "    return clean_tokens"
   ]
  }
 ],
 "metadata": {
  "kernelspec": {
   "display_name": "Python 3",
   "language": "python",
   "name": "python3"
  },
  "language_info": {
   "codemirror_mode": {
    "name": "ipython",
    "version": 3
   },
   "file_extension": ".py",
   "mimetype": "text/x-python",
   "name": "python",
   "nbconvert_exporter": "python",
   "pygments_lexer": "ipython3",
   "version": "3.7.4"
  }
 },
 "nbformat": 4,
 "nbformat_minor": 2
}
