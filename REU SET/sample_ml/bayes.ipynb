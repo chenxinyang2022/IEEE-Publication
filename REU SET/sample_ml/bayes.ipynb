{
 "cells": [
  {
   "cell_type": "code",
   "execution_count": 1,
   "metadata": {},
   "outputs": [
    {
     "name": "stdout",
     "output_type": "stream",
     "text": [
      "!\"#$%&'()*+,-./:;<=>?@[\\]^_`{|}~\n"
     ]
    }
   ],
   "source": [
    "import numpy as np\n",
    "import pandas as pd\n",
    "import matplotlib.pyplot as plt\n",
    "import seaborn as sns\n",
    "import nltk\n",
    "from nltk.corpus import stopwords\n",
    "from string import punctuation\n",
    "print(punctuation)\n",
    "from nltk.tag import pos_tag\n",
    "from nltk.stem.wordnet import WordNetLemmatizer"
   ]
  },
  {
   "cell_type": "code",
   "execution_count": 2,
   "metadata": {},
   "outputs": [],
   "source": [
    "df = pd.read_csv(\"SET_processed_latest_version.csv\")\n",
    "for i in range(df.shape[1]):\n",
    "    df.iloc[:,i]= df.iloc[:,i].replace([555, 777,888,999,'555','777','888','999' ], np.nan)\n",
    "text=df.loc[:,['GRYD_ETO_ID','S6b_Other_Activities','S11a_Comments','A1_Description','A2_Description','A3_Description','O1_other_group_name','Group_name_part1','PUSH_1','PULL_1']]\n",
    "text[\"text_all\"] = text.apply(lambda x: ','.join(x.dropna()), axis=1)"
   ]
  },
  {
   "cell_type": "code",
   "execution_count": 3,
   "metadata": {},
   "outputs": [],
   "source": [
    "import re, string\n",
    "\n",
    "def remove_noise(tweet_tokens, stop_words = ()):\n",
    "\n",
    "    cleaned_tokens = []\n",
    "\n",
    "    for token, tag in pos_tag(tweet_tokens):\n",
    "        token = re.sub('http[s]?://(?:[a-zA-Z]|[0-9]|[$-_@.&+#]|[!*\\(\\),]|'\\\n",
    "                       '(?:%[0-9a-fA-F][0-9a-fA-F]))+','', token)\n",
    "        token = re.sub(\"(@[A-Za-z0-9_]+)\",\"\", token)\n",
    "\n",
    "        if tag.startswith(\"NN\"):\n",
    "            pos = 'n'\n",
    "        elif tag.startswith('VB'):\n",
    "            pos = 'v'\n",
    "        else:\n",
    "            pos = 'a'\n",
    "\n",
    "        lemmatizer = WordNetLemmatizer()\n",
    "        token = lemmatizer.lemmatize(token, pos)\n",
    "\n",
    "        if len(token) > 0 and token not in string.punctuation and token.lower() not in stop_words:\n",
    "            cleaned_tokens.append(token.lower())\n",
    "    return cleaned_tokens\n",
    "from nltk.corpus import stopwords\n",
    "sw = stopwords.words('english')\n",
    "\n",
    "def  normalize (df):\n",
    "    contents=df.dropna().values\n",
    "    \n",
    "\n",
    "    \n",
    "    \n",
    "    for i in range (contents.shape[0]):\n",
    "        contents[i]=contents[i].replace(\",\", \" \")\n",
    "        \n",
    "    all_contents = [''.join([c for c in i if c not in punctuation]) for i in contents]\n",
    "    all_contents = [i.lower() for i in all_contents]\n",
    "    all_contents= [i.split() for i in all_contents]\n",
    "    \n",
    "    for i in range (len(all_contents)):\n",
    "        all_contents[i]=remove_noise(all_contents[i],sw)\n",
    "    \n",
    "    \n",
    "    clean_tokens = [[] for _ in range(len(all_contents))]\n",
    "    other_trash = ['im','a','u','2','wont','thats','dont', 'cant', 'didnt','isnt','ive','doesnt']\n",
    "    trash_tokens = sw + other_trash\n",
    "    for i in range(len(all_contents)):\n",
    "        for token in all_contents[i]:\n",
    "            if token not in trash_tokens:\n",
    "                clean_tokens[i].append(token)\n",
    "       \n",
    "    \n",
    "\n",
    "    \n",
    "    return clean_tokens"
   ]
  },
  {
   "cell_type": "code",
   "execution_count": 4,
   "metadata": {},
   "outputs": [],
   "source": [
    "original = normalize(text['S11a_Comments'])"
   ]
  },
  {
   "cell_type": "code",
   "execution_count": 5,
   "metadata": {},
   "outputs": [],
   "source": [
    "df1=pd.read_csv('unified_data_train.csv')"
   ]
  },
  {
   "cell_type": "code",
   "execution_count": 6,
   "metadata": {},
   "outputs": [],
   "source": [
    "df2=pd.read_csv('unified_data_test.csv')"
   ]
  },
  {
   "cell_type": "code",
   "execution_count": 7,
   "metadata": {},
   "outputs": [],
   "source": [
    "df=pd.concat([df1, df2], ignore_index=True)"
   ]
  },
  {
   "cell_type": "code",
   "execution_count": 8,
   "metadata": {},
   "outputs": [],
   "source": [
    "df=df.rename(columns={'Emotion':'sentiment','Text':'selected_text'})"
   ]
  },
  {
   "cell_type": "code",
   "execution_count": 9,
   "metadata": {},
   "outputs": [
    {
     "name": "stdout",
     "output_type": "stream",
     "text": [
      "neutral    104338\n",
      "joy         39299\n",
      "sadness     17951\n",
      "fear        17827\n",
      "anger       11480\n",
      "Name: sentiment, dtype: int64\n"
     ]
    }
   ],
   "source": [
    "print(df.sentiment.value_counts())"
   ]
  },
  {
   "cell_type": "code",
   "execution_count": 10,
   "metadata": {},
   "outputs": [],
   "source": [
    "fear = normalize(df.loc[df['sentiment']=='fear']['selected_text'])\n",
    "sadness = normalize(df.loc[df['sentiment']=='sadness']['selected_text'])\n",
    "neutral = normalize(df.loc[df['sentiment']=='neutral']['selected_text'])\n",
    "joy = normalize(df.loc[df['sentiment']=='joy']['selected_text'])\n",
    "\n",
    "\n",
    "anger = normalize(df.loc[df['sentiment']=='anger']['selected_text'])"
   ]
  },
  {
   "cell_type": "code",
   "execution_count": 11,
   "metadata": {},
   "outputs": [
    {
     "data": {
      "text/plain": [
       "190895"
      ]
     },
     "execution_count": 11,
     "metadata": {},
     "output_type": "execute_result"
    }
   ],
   "source": [
    "def get_tweets_for_model(cleaned_tokens_list):\n",
    "    \n",
    "    for tweet_tokens in cleaned_tokens_list:\n",
    "        yield dict([token, True] for token in tweet_tokens)\n",
    "\n",
    "fear_new = get_tweets_for_model(fear)\n",
    "sadness_new = get_tweets_for_model(sadness)\n",
    "neutral_new = get_tweets_for_model(neutral)\n",
    "joy_new = get_tweets_for_model(joy)\n",
    "\n",
    "\n",
    "anger_new = get_tweets_for_model(anger)\n",
    "\n",
    "import random\n",
    "fear_data = [(i, \"fear\")for i in fear_new]\n",
    "sadness_data = [(i, \"sadness\")for i in sadness_new]\n",
    "neutral_data = [(i, \"neutral\")for i in neutral_new]\n",
    "joy_data = [(i, \"joy\")for i in joy_new]\n",
    "\n",
    "\n",
    "anger_data = [(i, \"anger\")for i in anger_new]\n",
    "dataset = fear_data+ sadness_data +neutral_data+joy_data+anger_data\n",
    "\n",
    "len(dataset)\n"
   ]
  },
  {
   "cell_type": "code",
   "execution_count": 14,
   "metadata": {},
   "outputs": [
    {
     "name": "stdout",
     "output_type": "stream",
     "text": [
      "Accuracy is: 0.6835327894482504\n",
      "Most Informative Features\n",
      "                      rt = True           sadnes : neutra =   1699.6 : 1.0\n",
      "                feminist = True            anger : neutra =    934.7 : 1.0\n",
      "                   trump = True           sadnes : neutra =    587.1 : 1.0\n",
      "                 sadness = True           sadnes : neutra =    433.1 : 1.0\n",
      "                   anger = True            anger : neutra =    422.5 : 1.0\n",
      "                    rage = True            anger : neutra =    353.9 : 1.0\n",
      "              republican = True            anger : neutra =    335.8 : 1.0\n",
      "                    fuck = True            anger : neutra =    330.2 : 1.0\n",
      "              depression = True           sadnes : neutra =    298.3 : 1.0\n",
      "                    tcot = True            anger : neutra =    295.8 : 1.0\n",
      "None\n"
     ]
    }
   ],
   "source": [
    "random.shuffle(dataset)\n",
    "\n",
    "train_data = dataset[:150000]\n",
    "test_data = dataset[15000:]\n",
    "\n",
    "\n",
    "from nltk import classify\n",
    "from nltk import NaiveBayesClassifier\n",
    "classifier = NaiveBayesClassifier.train(train_data)\n",
    "\n",
    "print(\"Accuracy is:\", classify.accuracy(classifier1, test_data))\n",
    "\n",
    "print(classifier.show_most_informative_features(10))"
   ]
  },
  {
   "cell_type": "code",
   "execution_count": 15,
   "metadata": {},
   "outputs": [
    {
     "data": {
      "text/plain": [
       "<matplotlib.axes._subplots.AxesSubplot at 0x15c6145b448>"
      ]
     },
     "execution_count": 15,
     "metadata": {},
     "output_type": "execute_result"
    },
    {
     "data": {
      "image/png": "[encoded data removed]",
      "text/plain": [
       "<Figure size 432x288 with 1 Axes>"
      ]
     },
     "metadata": {
      "needs_background": "light"
     },
     "output_type": "display_data"
    }
   ],
   "source": [
    "sentiment=list()\n",
    "for i in range (len(original)):\n",
    "    sentiment.append(classifier.classify(dict([token, True] for token in original[i])))\n",
    "    \n",
    "text['sentiment']=np.nan\n",
    "temp=0\n",
    "for i in range (text.shape[0]):\n",
    "    if (type(text.loc[i,'S11a_Comments'])==str):\n",
    "        text.loc[i,'sentiment']=sentiment[temp]\n",
    "        temp=temp+1\n",
    "sns.countplot(text['sentiment'])"
   ]
  },
  {
   "cell_type": "code",
   "execution_count": 16,
   "metadata": {},
   "outputs": [
    {
     "data": {
      "text/html": [
       "<div>\n",
       "<style scoped>\n",
       "    .dataframe tbody tr th:only-of-type {\n",
       "        vertical-align: middle;\n",
       "    }\n",
       "\n",
       "    .dataframe tbody tr th {\n",
       "        vertical-align: top;\n",
       "    }\n",
       "\n",
       "    .dataframe thead th {\n",
       "        text-align: right;\n",
       "    }\n",
       "</style>\n",
       "<table border=\"1\" class=\"dataframe\">\n",
       "  <thead>\n",
       "    <tr style=\"text-align: right;\">\n",
       "      <th></th>\n",
       "      <th>GRYD_ETO_ID</th>\n",
       "      <th>S6b_Other_Activities</th>\n",
       "      <th>S11a_Comments</th>\n",
       "      <th>A1_Description</th>\n",
       "      <th>A2_Description</th>\n",
       "      <th>A3_Description</th>\n",
       "      <th>O1_other_group_name</th>\n",
       "      <th>Group_name_part1</th>\n",
       "      <th>PUSH_1</th>\n",
       "      <th>PULL_1</th>\n",
       "      <th>text_all</th>\n",
       "      <th>sentiment</th>\n",
       "    </tr>\n",
       "  </thead>\n",
       "  <tbody>\n",
       "    <tr>\n",
       "      <th>0</th>\n",
       "      <td>BVCB-0-144-1</td>\n",
       "      <td>Working out, CBT, boxing</td>\n",
       "      <td>School. Poor grades, car accident, not enough ...</td>\n",
       "      <td>School</td>\n",
       "      <td>NaN</td>\n",
       "      <td>School</td>\n",
       "      <td>Other group</td>\n",
       "      <td>Group</td>\n",
       "      <td>Somebody got out of jail that brought a lot of...</td>\n",
       "      <td>School. work. moving</td>\n",
       "      <td>BVCB-0-144-1,Working out, CBT, boxing,School. ...</td>\n",
       "      <td>sadness</td>\n",
       "    </tr>\n",
       "    <tr>\n",
       "      <th>1</th>\n",
       "      <td>BVCB-0-174-1</td>\n",
       "      <td>Basketball</td>\n",
       "      <td>Mother died</td>\n",
       "      <td>Basketball</td>\n",
       "      <td>NaN</td>\n",
       "      <td>NaN</td>\n",
       "      <td>No name</td>\n",
       "      <td>Money Gang</td>\n",
       "      <td>NaN</td>\n",
       "      <td>NaN</td>\n",
       "      <td>BVCB-0-174-1,Basketball,Mother died,Basketball...</td>\n",
       "      <td>sadness</td>\n",
       "    </tr>\n",
       "    <tr>\n",
       "      <th>2</th>\n",
       "      <td>Southeast 3-10-24-1</td>\n",
       "      <td>Extra activities with children</td>\n",
       "      <td>Favor cousin was murder and never found his ki...</td>\n",
       "      <td>Church, job and school</td>\n",
       "      <td>Church choir and praise team</td>\n",
       "      <td>NaN</td>\n",
       "      <td>Church group</td>\n",
       "      <td>No group</td>\n",
       "      <td>NaN</td>\n",
       "      <td>NaN</td>\n",
       "      <td>Southeast 3-10-24-1,Extra activities with chil...</td>\n",
       "      <td>anger</td>\n",
       "    </tr>\n",
       "    <tr>\n",
       "      <th>3</th>\n",
       "      <td>Southeast 3-10-18-1</td>\n",
       "      <td>Actor/dance</td>\n",
       "      <td>Best friend brother was murder [sic] by 16 and...</td>\n",
       "      <td>Church, school and job</td>\n",
       "      <td>Church choir and praise team</td>\n",
       "      <td>NaN</td>\n",
       "      <td>No name</td>\n",
       "      <td>No name</td>\n",
       "      <td>NaN</td>\n",
       "      <td>NaN</td>\n",
       "      <td>Southeast 3-10-18-1,Actor/dance,Best friend br...</td>\n",
       "      <td>sadness</td>\n",
       "    </tr>\n",
       "    <tr>\n",
       "      <th>4</th>\n",
       "      <td>Southeast 3-10-17-1</td>\n",
       "      <td>Singing</td>\n",
       "      <td>Best fried brother was murder [sic] by 18yr boy</td>\n",
       "      <td>Church, job, and school</td>\n",
       "      <td>Church choir and praise team</td>\n",
       "      <td>NaN</td>\n",
       "      <td>No name</td>\n",
       "      <td>No name</td>\n",
       "      <td>NaN</td>\n",
       "      <td>NaN</td>\n",
       "      <td>Southeast 3-10-17-1,Singing,Best fried brother...</td>\n",
       "      <td>anger</td>\n",
       "    </tr>\n",
       "  </tbody>\n",
       "</table>\n",
       "</div>"
      ],
      "text/plain": [
       "           GRYD_ETO_ID            S6b_Other_Activities  \\\n",
       "0         BVCB-0-144-1        Working out, CBT, boxing   \n",
       "1         BVCB-0-174-1                      Basketball   \n",
       "2  Southeast 3-10-24-1  Extra activities with children   \n",
       "3  Southeast 3-10-18-1                     Actor/dance   \n",
       "4  Southeast 3-10-17-1                         Singing   \n",
       "\n",
       "                                       S11a_Comments           A1_Description  \\\n",
       "0  School. Poor grades, car accident, not enough ...                   School   \n",
       "1                                        Mother died               Basketball   \n",
       "2  Favor cousin was murder and never found his ki...   Church, job and school   \n",
       "3  Best friend brother was murder [sic] by 16 and...   Church, school and job   \n",
       "4    Best fried brother was murder [sic] by 18yr boy  Church, job, and school   \n",
       "\n",
       "                 A2_Description A3_Description O1_other_group_name  \\\n",
       "0                           NaN         School         Other group   \n",
       "1                           NaN            NaN             No name   \n",
       "2  Church choir and praise team            NaN        Church group   \n",
       "3  Church choir and praise team            NaN             No name   \n",
       "4  Church choir and praise team            NaN             No name   \n",
       "\n",
       "  Group_name_part1                                             PUSH_1  \\\n",
       "0            Group  Somebody got out of jail that brought a lot of...   \n",
       "1       Money Gang                                                NaN   \n",
       "2         No group                                                NaN   \n",
       "3          No name                                                NaN   \n",
       "4          No name                                                NaN   \n",
       "\n",
       "                 PULL_1                                           text_all  \\\n",
       "0  School. work. moving  BVCB-0-144-1,Working out, CBT, boxing,School. ...   \n",
       "1                   NaN  BVCB-0-174-1,Basketball,Mother died,Basketball...   \n",
       "2                   NaN  Southeast 3-10-24-1,Extra activities with chil...   \n",
       "3                   NaN  Southeast 3-10-18-1,Actor/dance,Best friend br...   \n",
       "4                   NaN  Southeast 3-10-17-1,Singing,Best fried brother...   \n",
       "\n",
       "  sentiment  \n",
       "0   sadness  \n",
       "1   sadness  \n",
       "2     anger  \n",
       "3   sadness  \n",
       "4     anger  "
      ]
     },
     "execution_count": 16,
     "metadata": {},
     "output_type": "execute_result"
    }
   ],
   "source": [
    "text.head()"
   ]
  },
  {
   "cell_type": "code",
   "execution_count": 17,
   "metadata": {},
   "outputs": [
    {
     "data": {
      "text/html": [
       "<div>\n",
       "<style scoped>\n",
       "    .dataframe tbody tr th:only-of-type {\n",
       "        vertical-align: middle;\n",
       "    }\n",
       "\n",
       "    .dataframe tbody tr th {\n",
       "        vertical-align: top;\n",
       "    }\n",
       "\n",
       "    .dataframe thead th {\n",
       "        text-align: right;\n",
       "    }\n",
       "</style>\n",
       "<table border=\"1\" class=\"dataframe\">\n",
       "  <thead>\n",
       "    <tr style=\"text-align: right;\">\n",
       "      <th></th>\n",
       "      <th>ID</th>\n",
       "      <th>admin</th>\n",
       "      <th>age</th>\n",
       "      <th>sex</th>\n",
       "      <th>zone</th>\n",
       "      <th>gang</th>\n",
       "      <th>family</th>\n",
       "      <th>other</th>\n",
       "      <th>risk</th>\n",
       "    </tr>\n",
       "  </thead>\n",
       "  <tbody>\n",
       "    <tr>\n",
       "      <th>0</th>\n",
       "      <td>BVCB-0-144-1</td>\n",
       "      <td>3</td>\n",
       "      <td>20.0</td>\n",
       "      <td>2</td>\n",
       "      <td>22.0</td>\n",
       "      <td>-7.812395</td>\n",
       "      <td>-3.665696</td>\n",
       "      <td>0.127677</td>\n",
       "      <td>-5.196776</td>\n",
       "    </tr>\n",
       "    <tr>\n",
       "      <th>1</th>\n",
       "      <td>BVCB-0-174-1</td>\n",
       "      <td>2</td>\n",
       "      <td>21.0</td>\n",
       "      <td>1</td>\n",
       "      <td>22.0</td>\n",
       "      <td>2.103629</td>\n",
       "      <td>-1.267477</td>\n",
       "      <td>2.417171</td>\n",
       "      <td>9.762419</td>\n",
       "    </tr>\n",
       "    <tr>\n",
       "      <th>2</th>\n",
       "      <td>Southeast 3-10-24-1</td>\n",
       "      <td>1</td>\n",
       "      <td>NaN</td>\n",
       "      <td>2</td>\n",
       "      <td>21.0</td>\n",
       "      <td>NaN</td>\n",
       "      <td>6.626468</td>\n",
       "      <td>-0.225167</td>\n",
       "      <td>-2.651080</td>\n",
       "    </tr>\n",
       "    <tr>\n",
       "      <th>3</th>\n",
       "      <td>Southeast 3-10-18-1</td>\n",
       "      <td>1</td>\n",
       "      <td>25.0</td>\n",
       "      <td>1</td>\n",
       "      <td>21.0</td>\n",
       "      <td>-8.583601</td>\n",
       "      <td>6.626468</td>\n",
       "      <td>-0.225167</td>\n",
       "      <td>-2.073084</td>\n",
       "    </tr>\n",
       "    <tr>\n",
       "      <th>4</th>\n",
       "      <td>Southeast 3-10-17-1</td>\n",
       "      <td>1</td>\n",
       "      <td>24.0</td>\n",
       "      <td>2</td>\n",
       "      <td>21.0</td>\n",
       "      <td>-8.583601</td>\n",
       "      <td>6.626468</td>\n",
       "      <td>1.413228</td>\n",
       "      <td>-1.421399</td>\n",
       "    </tr>\n",
       "  </tbody>\n",
       "</table>\n",
       "</div>"
      ],
      "text/plain": [
       "                    ID  admin   age  sex  zone      gang    family     other  \\\n",
       "0         BVCB-0-144-1      3  20.0    2  22.0 -7.812395 -3.665696  0.127677   \n",
       "1         BVCB-0-174-1      2  21.0    1  22.0  2.103629 -1.267477  2.417171   \n",
       "2  Southeast 3-10-24-1      1   NaN    2  21.0       NaN  6.626468 -0.225167   \n",
       "3  Southeast 3-10-18-1      1  25.0    1  21.0 -8.583601  6.626468 -0.225167   \n",
       "4  Southeast 3-10-17-1      1  24.0    2  21.0 -8.583601  6.626468  1.413228   \n",
       "\n",
       "       risk  \n",
       "0 -5.196776  \n",
       "1  9.762419  \n",
       "2 -2.651080  \n",
       "3 -2.073084  \n",
       "4 -1.421399  "
      ]
     },
     "execution_count": 17,
     "metadata": {},
     "output_type": "execute_result"
    }
   ],
   "source": [
    "score=pd.read_csv('full_embeddedness.csv')\n",
    "score.head()"
   ]
  },
  {
   "cell_type": "code",
   "execution_count": 18,
   "metadata": {},
   "outputs": [],
   "source": [
    "risk=score.loc[:,['ID','gang']]"
   ]
  },
  {
   "cell_type": "code",
   "execution_count": 19,
   "metadata": {},
   "outputs": [],
   "source": [
    "emotion=text.loc[:,['GRYD_ETO_ID','sentiment']]\n",
    "emotion=emotion.rename(columns={'GRYD_ETO_ID':'ID'})"
   ]
  },
  {
   "cell_type": "code",
   "execution_count": 20,
   "metadata": {},
   "outputs": [],
   "source": [
    "merged_inner = pd.merge(left=emotion, right=risk, on='ID', how='inner')"
   ]
  },
  {
   "cell_type": "code",
   "execution_count": 21,
   "metadata": {},
   "outputs": [],
   "source": [
    "df=merged_inner.dropna()"
   ]
  },
  {
   "cell_type": "code",
   "execution_count": 22,
   "metadata": {},
   "outputs": [
    {
     "data": {
      "text/html": [
       "<div>\n",
       "<style scoped>\n",
       "    .dataframe tbody tr th:only-of-type {\n",
       "        vertical-align: middle;\n",
       "    }\n",
       "\n",
       "    .dataframe tbody tr th {\n",
       "        vertical-align: top;\n",
       "    }\n",
       "\n",
       "    .dataframe thead th {\n",
       "        text-align: right;\n",
       "    }\n",
       "</style>\n",
       "<table border=\"1\" class=\"dataframe\">\n",
       "  <thead>\n",
       "    <tr style=\"text-align: right;\">\n",
       "      <th></th>\n",
       "      <th>ID</th>\n",
       "      <th>sentiment</th>\n",
       "      <th>gang</th>\n",
       "    </tr>\n",
       "  </thead>\n",
       "  <tbody>\n",
       "    <tr>\n",
       "      <th>0</th>\n",
       "      <td>BVCB-0-144-1</td>\n",
       "      <td>sadness</td>\n",
       "      <td>-7.812395</td>\n",
       "    </tr>\n",
       "    <tr>\n",
       "      <th>1</th>\n",
       "      <td>BVCB-0-174-1</td>\n",
       "      <td>sadness</td>\n",
       "      <td>2.103629</td>\n",
       "    </tr>\n",
       "    <tr>\n",
       "      <th>2</th>\n",
       "      <td>BVCB-0-174-1</td>\n",
       "      <td>sadness</td>\n",
       "      <td>2.931780</td>\n",
       "    </tr>\n",
       "    <tr>\n",
       "      <th>6</th>\n",
       "      <td>Southeast 3-10-18-1</td>\n",
       "      <td>sadness</td>\n",
       "      <td>-8.583601</td>\n",
       "    </tr>\n",
       "    <tr>\n",
       "      <th>7</th>\n",
       "      <td>Southeast 3-10-17-1</td>\n",
       "      <td>anger</td>\n",
       "      <td>-8.583601</td>\n",
       "    </tr>\n",
       "  </tbody>\n",
       "</table>\n",
       "</div>"
      ],
      "text/plain": [
       "                    ID sentiment      gang\n",
       "0         BVCB-0-144-1   sadness -7.812395\n",
       "1         BVCB-0-174-1   sadness  2.103629\n",
       "2         BVCB-0-174-1   sadness  2.931780\n",
       "6  Southeast 3-10-18-1   sadness -8.583601\n",
       "7  Southeast 3-10-17-1     anger -8.583601"
      ]
     },
     "execution_count": 22,
     "metadata": {},
     "output_type": "execute_result"
    }
   ],
   "source": [
    "df.head()"
   ]
  },
  {
   "cell_type": "code",
   "execution_count": 23,
   "metadata": {},
   "outputs": [
    {
     "data": {
      "text/plain": [
       "Text(0, 0.5, 'gang_score')"
      ]
     },
     "execution_count": 23,
     "metadata": {},
     "output_type": "execute_result"
    },
    {
     "data": {
      "image/png": "[encoded data removed]",
      "text/plain": [
       "<Figure size 432x288 with 1 Axes>"
      ]
     },
     "metadata": {
      "needs_background": "light"
     },
     "output_type": "display_data"
    }
   ],
   "source": [
    "sns.boxplot(x='sentiment',y='gang',data=df,palette='rainbow')\n",
    "plt.ylabel('gang_score')"
   ]
  },
  {
   "cell_type": "code",
   "execution_count": null,
   "metadata": {},
   "outputs": [],
   "source": []
  }
 ],
 "metadata": {
  "kernelspec": {
   "display_name": "Python 3",
   "language": "python",
   "name": "python3"
  },
  "language_info": {
   "codemirror_mode": {
    "name": "ipython",
    "version": 3
   },
   "file_extension": ".py",
   "mimetype": "text/x-python",
   "name": "python",
   "nbconvert_exporter": "python",
   "pygments_lexer": "ipython3",
   "version": "3.7.6"
  }
 },
 "nbformat": 4,
 "nbformat_minor": 4
}
